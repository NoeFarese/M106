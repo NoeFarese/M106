{
    "cells": [
        {
            "attachments": {},
            "cell_type": "markdown",
            "metadata": {
                "azdata_cell_guid": "b2651707-d90a-45ed-bdce-c793371b65f1"
            },
            "source": [
                "# Übungsaufgaben Transaktionen\n",
                "\n",
                "**Hinweis:** Die folgenden Aufgaben beziehen sich auf die WWI-Datenbank. \n",
                "\n",
                "Diverse Operationen sollen nun mit Transaktionen so abgesichtert werden, dass die Datenintegrität gewährleistet ist, also kein ungültiger Zustand der Daten entstehen kann."
            ]
        },
        {
            "attachments": {},
            "cell_type": "markdown",
            "metadata": {
                "azdata_cell_guid": "d68fcf59-f9cd-4320-b954-cf87868f0b86"
            },
            "source": [
                "**1\\. Produkte bestellen**\n",
                "\n",
                "1.1 Lagerbestand auffüllen\n",
                "\n",
                "Der Geschäftskunde \"Nils Kaulins\" bestellt für seinen kleinen PC-Shop einige Fun-USB-Sticks: \n",
                "\n",
                "- 20 Stück \"USB food flash drive - hot dog\" \n",
                "- 10 Stück \"USB food flash drive - banana\". \n",
                "\n",
                "Erstelle dazu eine Transaktion mit allen nötigen Queries (Gerüst unten ergänzen):\n",
                "\n",
                "**Neue Bestellung** in der Tabelle _Sales.Orders_\n",
                "\n",
                "- Die _CustomerID_ von \"Nils Kaulins\" findest du in der Tabelle _Sales.Customers_. \n",
                "- Ebenso die _ContactPersonID_ (=_PrimaryContactPersonID_).\n",
                "- Als _SalespersonPersonID_ und _LastEditedBy_ kannst du eine beliebige Person aus der Tabelle _Application.People_ wählen mit _IsSalesperson=1_.\n",
                "- Als _CustomerPurchaseOrderNumber_ kannst du eine 5-stellige Zufallszahl generieren oder eine Fantasiezahl reinschreiben.\n",
                "- _OrderDate_: Füge mit einer Funktion das aktuelle Datum ein.\n",
                "- _ExpectedDeliveryDate_: Aktuelles Datum plus 3 Tage\n",
                "- _IsUndersupplyBackordered_ = 1\n",
                "- Die übrigen Felder kannst du weglassen bzw. NULL einfügen oder Werte von einer anderen bestehenden Bestellung kopieren.\n",
                "\n",
                "**Zwei Bestell-Zeilen** in der Tabelle _Sales.OrderLines_.\n",
                "\n",
                "- _OrderID_: ID der letzten Bestellung für den aktuellen Kunden (Tabelle _Sales.Orders_).   \n",
                "    Tipp: Statt _INSERT INTO Sales.OrderLines (OrderID, ...) VALUES (1234, ....);_ kann man für 1234 eine Unterabfrage einsetzen und die ID dynamisch auslesen:   \n",
                "    _INSERT INTO Sales.OrderLines (OrderID, ...) VALUES ((SELECT TOP (1) OrderID FROM Sales.Orders WHERE CustomerID = 1018 ORDER BY OrderID DESC), ....);_\n",
                "- _StockItemID_ und übrige Felder: Suche eine bestehende Bestellung in _Sales.OrderLines_ mit _Description IN('USB food flash drive - hot dog', 'USB food flash drive - banana')_ und kopiere die Werte von da, ausser Quantity natürlich.\n",
                "- _PickedQuantity_ soll erst mal 0 (null) sein, wird erst bei der Auslieferung gesetzt.\n",
                "- _LastEditedBy_ ist gleich die bei der Bestellung oben\n",
                "\n",
                "Teste dann einmal mit _ROLLBACK TRANSACTION_ und mit _COMMIT TRANSACTION_ und kontrolliere die neuen Tabellen-Einträge."
            ]
        },
        {
            "cell_type": "code",
            "execution_count": 1,
            "metadata": {
                "azdata_cell_guid": "7b1a5e48-d04a-47ce-85c5-bb536362a3a9",
                "vscode": {
                    "languageId": "sql"
                }
            },
            "outputs": [
                {
                    "data": {
                        "text/html": [
                            "(1 row affected)"
                        ]
                    },
                    "metadata": {},
                    "output_type": "display_data"
                },
                {
                    "data": {
                        "text/html": [
                            "(2 rows affected)"
                        ]
                    },
                    "metadata": {},
                    "output_type": "display_data"
                },
                {
                    "data": {
                        "text/html": [
                            "Total execution time: 00:00:00.018"
                        ]
                    },
                    "metadata": {},
                    "output_type": "display_data"
                }
            ],
            "source": [
                "-- Transaktion starten\n",
                "BEGIN TRANSACTION;\n",
                "\n",
                "-- Bestellung\n",
                "INSERT INTO Sales.Orders (\n",
                "    CustomerID, SalespersonPersonID, ContactPersonID,\n",
                "    OrderDate, ExpectedDeliveryDate, CustomerPurchaseOrderNumber, \n",
                "    IsUndersupplyBackordered, LastEditedBy\n",
                ")\n",
                "VALUES (\n",
                "    1018, 2, 3218, GETDATE(), GETDATE() + 3, FLOOR(RAND() * 99999), 1, 2\n",
                ");\n",
                "\n",
                "-- Bestellzeilen\n",
                "INSERT INTO Sales.OrderLines (\n",
                "    OrderID, StockItemID, Description, PackageTypeID,\n",
                "    Quantity, UnitPrice, TaxRate, PickedQuantity,\n",
                "    LastEditedBy\n",
                ") \n",
                "VALUES (\n",
                "    (SELECT TOP (1) OrderID FROM Sales.Orders WHERE CustomerID = 1018 ORDER BY OrderID DESC), -- ID der letzten Bestellung des Kunden\n",
                "    6, 'USB food flash drive - hot dog', 7, 20, 32.00, 15.00, 0, 2\n",
                "), \n",
                "(\n",
                "    (SELECT TOP (1) OrderID FROM Sales.Orders WHERE CustomerID = 1018 ORDER BY OrderID DESC), \n",
                "    9, 'USB food flash drive - banana', 7, 10, 32.00, 15.00, 0, 2\n",
                ");\n",
                "\n",
                "-- Transaktion abschliessen (ROLLBACK oder COMMIT)\n",
                "COMMIT TRANSACTION;\n",
                "-- Oder\n",
                "-- ROLLBACK TRANSACTION;\n"
            ]
        },
        {
            "attachments": {},
            "cell_type": "markdown",
            "metadata": {
                "azdata_cell_guid": "1ea4f67a-5c43-46d3-8e04-5900aaf3f457"
            },
            "source": [
                "Kontrolliere vor und nachher die neuen Tabellen-Einträge:"
            ]
        },
        {
            "cell_type": "code",
            "execution_count": 2,
            "metadata": {
                "azdata_cell_guid": "4d98c182-85d3-4427-a2a5-2ca9a1b3e234",
                "tags": [],
                "vscode": {
                    "languageId": "sql"
                }
            },
            "outputs": [
                {
                    "data": {
                        "text/html": [
                            "(5 rows affected)"
                        ]
                    },
                    "metadata": {},
                    "output_type": "display_data"
                },
                {
                    "data": {
                        "text/html": [
                            "(10 rows affected)"
                        ]
                    },
                    "metadata": {},
                    "output_type": "display_data"
                },
                {
                    "data": {
                        "text/html": [
                            "Total execution time: 00:00:00.022"
                        ]
                    },
                    "metadata": {},
                    "output_type": "display_data"
                },
                {
                    "data": {
                        "application/vnd.dataresource+json": {
                            "data": [
                                {
                                    "0": "73615",
                                    "1": "1018",
                                    "2": "2",
                                    "3": "NULL",
                                    "4": "3218",
                                    "5": "NULL",
                                    "6": "2022-01-04",
                                    "7": "2022-01-07",
                                    "8": "36684",
                                    "9": "1",
                                    "10": "NULL",
                                    "11": "NULL",
                                    "12": "NULL",
                                    "13": "NULL",
                                    "14": "2",
                                    "15": "2022-01-04 17:14:15.3910438"
                                },
                                {
                                    "0": "73614",
                                    "1": "1018",
                                    "2": "2",
                                    "3": "3218",
                                    "4": "3218",
                                    "5": "NULL",
                                    "6": "2022-01-04",
                                    "7": "2022-01-07",
                                    "8": "60915",
                                    "9": "1",
                                    "10": "NULL",
                                    "11": "NULL",
                                    "12": "NULL",
                                    "13": "2022-01-04 16:31:18.5466667",
                                    "14": "2",
                                    "15": "2022-01-04 16:31:18.5466667"
                                },
                                {
                                    "0": "73612",
                                    "1": "1018",
                                    "2": "2",
                                    "3": "NULL",
                                    "4": "3218",
                                    "5": "NULL",
                                    "6": "2022-01-04",
                                    "7": "2022-01-07",
                                    "8": "16892",
                                    "9": "1",
                                    "10": "NULL",
                                    "11": "NULL",
                                    "12": "NULL",
                                    "13": "NULL",
                                    "14": "2",
                                    "15": "2022-01-04 14:42:00.8292347"
                                },
                                {
                                    "0": "73611",
                                    "1": "1018",
                                    "2": "2",
                                    "3": "NULL",
                                    "4": "3218",
                                    "5": "NULL",
                                    "6": "2022-01-04",
                                    "7": "2022-01-07",
                                    "8": "77775",
                                    "9": "1",
                                    "10": "NULL",
                                    "11": "NULL",
                                    "12": "NULL",
                                    "13": "NULL",
                                    "14": "2",
                                    "15": "2022-01-04 14:35:14.1437853"
                                },
                                {
                                    "0": "73610",
                                    "1": "1018",
                                    "2": "2",
                                    "3": "NULL",
                                    "4": "3218",
                                    "5": "NULL",
                                    "6": "2022-01-04",
                                    "7": "2022-01-07",
                                    "8": "79374",
                                    "9": "1",
                                    "10": "NULL",
                                    "11": "NULL",
                                    "12": "NULL",
                                    "13": "NULL",
                                    "14": "2",
                                    "15": "2022-01-04 14:34:45.1860899"
                                }
                            ],
                            "schema": {
                                "fields": [
                                    {
                                        "name": "OrderID"
                                    },
                                    {
                                        "name": "CustomerID"
                                    },
                                    {
                                        "name": "SalespersonPersonID"
                                    },
                                    {
                                        "name": "PickedByPersonID"
                                    },
                                    {
                                        "name": "ContactPersonID"
                                    },
                                    {
                                        "name": "BackorderOrderID"
                                    },
                                    {
                                        "name": "OrderDate"
                                    },
                                    {
                                        "name": "ExpectedDeliveryDate"
                                    },
                                    {
                                        "name": "CustomerPurchaseOrderNumber"
                                    },
                                    {
                                        "name": "IsUndersupplyBackordered"
                                    },
                                    {
                                        "name": "Comments"
                                    },
                                    {
                                        "name": "DeliveryInstructions"
                                    },
                                    {
                                        "name": "InternalComments"
                                    },
                                    {
                                        "name": "PickingCompletedWhen"
                                    },
                                    {
                                        "name": "LastEditedBy"
                                    },
                                    {
                                        "name": "LastEditedWhen"
                                    }
                                ]
                            }
                        },
                        "text/html": [
                            "<table><tr><th>OrderID</th><th>CustomerID</th><th>SalespersonPersonID</th><th>PickedByPersonID</th><th>ContactPersonID</th><th>BackorderOrderID</th><th>OrderDate</th><th>ExpectedDeliveryDate</th><th>CustomerPurchaseOrderNumber</th><th>IsUndersupplyBackordered</th><th>Comments</th><th>DeliveryInstructions</th><th>InternalComments</th><th>PickingCompletedWhen</th><th>LastEditedBy</th><th>LastEditedWhen</th></tr><tr><td>73615</td><td>1018</td><td>2</td><td>NULL</td><td>3218</td><td>NULL</td><td>2022-01-04</td><td>2022-01-07</td><td>36684</td><td>1</td><td>NULL</td><td>NULL</td><td>NULL</td><td>NULL</td><td>2</td><td>2022-01-04 17:14:15.3910438</td></tr><tr><td>73614</td><td>1018</td><td>2</td><td>3218</td><td>3218</td><td>NULL</td><td>2022-01-04</td><td>2022-01-07</td><td>60915</td><td>1</td><td>NULL</td><td>NULL</td><td>NULL</td><td>2022-01-04 16:31:18.5466667</td><td>2</td><td>2022-01-04 16:31:18.5466667</td></tr><tr><td>73612</td><td>1018</td><td>2</td><td>NULL</td><td>3218</td><td>NULL</td><td>2022-01-04</td><td>2022-01-07</td><td>16892</td><td>1</td><td>NULL</td><td>NULL</td><td>NULL</td><td>NULL</td><td>2</td><td>2022-01-04 14:42:00.8292347</td></tr><tr><td>73611</td><td>1018</td><td>2</td><td>NULL</td><td>3218</td><td>NULL</td><td>2022-01-04</td><td>2022-01-07</td><td>77775</td><td>1</td><td>NULL</td><td>NULL</td><td>NULL</td><td>NULL</td><td>2</td><td>2022-01-04 14:35:14.1437853</td></tr><tr><td>73610</td><td>1018</td><td>2</td><td>NULL</td><td>3218</td><td>NULL</td><td>2022-01-04</td><td>2022-01-07</td><td>79374</td><td>1</td><td>NULL</td><td>NULL</td><td>NULL</td><td>NULL</td><td>2</td><td>2022-01-04 14:34:45.1860899</td></tr></table>"
                        ]
                    },
                    "execution_count": 2,
                    "metadata": {},
                    "output_type": "execute_result"
                },
                {
                    "data": {
                        "application/vnd.dataresource+json": {
                            "data": [
                                {
                                    "0": "231430",
                                    "1": "73615",
                                    "2": "9",
                                    "3": "USB food flash drive - banana",
                                    "4": "7",
                                    "5": "10",
                                    "6": "32.00",
                                    "7": "15.000",
                                    "8": "0",
                                    "9": "NULL",
                                    "10": "2",
                                    "11": "2022-01-04 17:14:15.3950132"
                                },
                                {
                                    "0": "231429",
                                    "1": "73615",
                                    "2": "6",
                                    "3": "USB food flash drive - hot dog",
                                    "4": "7",
                                    "5": "20",
                                    "6": "32.00",
                                    "7": "15.000",
                                    "8": "0",
                                    "9": "NULL",
                                    "10": "2",
                                    "11": "2022-01-04 17:14:15.3950132"
                                },
                                {
                                    "0": "231428",
                                    "1": "73614",
                                    "2": "9",
                                    "3": "USB food flash drive - banana",
                                    "4": "7",
                                    "5": "10",
                                    "6": "32.00",
                                    "7": "15.000",
                                    "8": "10",
                                    "9": "2022-01-04 17:10:46.0700000",
                                    "10": "2",
                                    "11": "2022-01-04 17:10:46.0700000"
                                },
                                {
                                    "0": "231427",
                                    "1": "73614",
                                    "2": "6",
                                    "3": "USB food flash drive - hot dog",
                                    "4": "7",
                                    "5": "20",
                                    "6": "32.00",
                                    "7": "15.000",
                                    "8": "20",
                                    "9": "2022-01-04 17:10:46.0700000",
                                    "10": "2",
                                    "11": "2022-01-04 17:10:46.0700000"
                                },
                                {
                                    "0": "231424",
                                    "1": "73612",
                                    "2": "9",
                                    "3": "USB food flash drive - banana",
                                    "4": "7",
                                    "5": "10",
                                    "6": "32.00",
                                    "7": "15.000",
                                    "8": "0",
                                    "9": "NULL",
                                    "10": "2",
                                    "11": "2022-01-04 14:42:00.8292347"
                                },
                                {
                                    "0": "231423",
                                    "1": "73612",
                                    "2": "6",
                                    "3": "USB food flash drive - hot dog",
                                    "4": "7",
                                    "5": "20",
                                    "6": "32.00",
                                    "7": "15.000",
                                    "8": "0",
                                    "9": "NULL",
                                    "10": "2",
                                    "11": "2022-01-04 14:42:00.8292347"
                                },
                                {
                                    "0": "231415",
                                    "1": "73602",
                                    "2": "9",
                                    "3": "USB food flash drive - banana",
                                    "4": "7",
                                    "5": "10",
                                    "6": "32.00",
                                    "7": "15.000",
                                    "8": "0",
                                    "9": "NULL",
                                    "10": "2",
                                    "11": "2022-01-04 14:29:33.2542765"
                                },
                                {
                                    "0": "231414",
                                    "1": "73602",
                                    "2": "6",
                                    "3": "USB food flash drive - hot dog",
                                    "4": "7",
                                    "5": "20",
                                    "6": "32.00",
                                    "7": "15.000",
                                    "8": "0",
                                    "9": "NULL",
                                    "10": "2",
                                    "11": "2022-01-04 14:29:33.2542765"
                                },
                                {
                                    "0": "231412",
                                    "1": "73586",
                                    "2": "130",
                                    "3": "Furry gorilla with big eyes slippers (Black) S",
                                    "4": "7",
                                    "5": "8",
                                    "6": "32.00",
                                    "7": "15.000",
                                    "8": "8",
                                    "9": "2016-05-31 11:00:00.0000000",
                                    "10": "4",
                                    "11": "2016-05-31 11:00:00.0000000"
                                },
                                {
                                    "0": "231411",
                                    "1": "73586",
                                    "2": "170",
                                    "3": "20 mm Anti static bubble wrap (Blue) 50m",
                                    "4": "7",
                                    "5": "40",
                                    "6": "102.00",
                                    "7": "15.000",
                                    "8": "40",
                                    "9": "2016-05-31 11:00:00.0000000",
                                    "10": "4",
                                    "11": "2016-05-31 11:00:00.0000000"
                                }
                            ],
                            "schema": {
                                "fields": [
                                    {
                                        "name": "OrderLineID"
                                    },
                                    {
                                        "name": "OrderID"
                                    },
                                    {
                                        "name": "StockItemID"
                                    },
                                    {
                                        "name": "Description"
                                    },
                                    {
                                        "name": "PackageTypeID"
                                    },
                                    {
                                        "name": "Quantity"
                                    },
                                    {
                                        "name": "UnitPrice"
                                    },
                                    {
                                        "name": "TaxRate"
                                    },
                                    {
                                        "name": "PickedQuantity"
                                    },
                                    {
                                        "name": "PickingCompletedWhen"
                                    },
                                    {
                                        "name": "LastEditedBy"
                                    },
                                    {
                                        "name": "LastEditedWhen"
                                    }
                                ]
                            }
                        },
                        "text/html": [
                            "<table><tr><th>OrderLineID</th><th>OrderID</th><th>StockItemID</th><th>Description</th><th>PackageTypeID</th><th>Quantity</th><th>UnitPrice</th><th>TaxRate</th><th>PickedQuantity</th><th>PickingCompletedWhen</th><th>LastEditedBy</th><th>LastEditedWhen</th></tr><tr><td>231430</td><td>73615</td><td>9</td><td>USB food flash drive - banana</td><td>7</td><td>10</td><td>32.00</td><td>15.000</td><td>0</td><td>NULL</td><td>2</td><td>2022-01-04 17:14:15.3950132</td></tr><tr><td>231429</td><td>73615</td><td>6</td><td>USB food flash drive - hot dog</td><td>7</td><td>20</td><td>32.00</td><td>15.000</td><td>0</td><td>NULL</td><td>2</td><td>2022-01-04 17:14:15.3950132</td></tr><tr><td>231428</td><td>73614</td><td>9</td><td>USB food flash drive - banana</td><td>7</td><td>10</td><td>32.00</td><td>15.000</td><td>10</td><td>2022-01-04 17:10:46.0700000</td><td>2</td><td>2022-01-04 17:10:46.0700000</td></tr><tr><td>231427</td><td>73614</td><td>6</td><td>USB food flash drive - hot dog</td><td>7</td><td>20</td><td>32.00</td><td>15.000</td><td>20</td><td>2022-01-04 17:10:46.0700000</td><td>2</td><td>2022-01-04 17:10:46.0700000</td></tr><tr><td>231424</td><td>73612</td><td>9</td><td>USB food flash drive - banana</td><td>7</td><td>10</td><td>32.00</td><td>15.000</td><td>0</td><td>NULL</td><td>2</td><td>2022-01-04 14:42:00.8292347</td></tr><tr><td>231423</td><td>73612</td><td>6</td><td>USB food flash drive - hot dog</td><td>7</td><td>20</td><td>32.00</td><td>15.000</td><td>0</td><td>NULL</td><td>2</td><td>2022-01-04 14:42:00.8292347</td></tr><tr><td>231415</td><td>73602</td><td>9</td><td>USB food flash drive - banana</td><td>7</td><td>10</td><td>32.00</td><td>15.000</td><td>0</td><td>NULL</td><td>2</td><td>2022-01-04 14:29:33.2542765</td></tr><tr><td>231414</td><td>73602</td><td>6</td><td>USB food flash drive - hot dog</td><td>7</td><td>20</td><td>32.00</td><td>15.000</td><td>0</td><td>NULL</td><td>2</td><td>2022-01-04 14:29:33.2542765</td></tr><tr><td>231412</td><td>73586</td><td>130</td><td>Furry gorilla with big eyes slippers (Black) S</td><td>7</td><td>8</td><td>32.00</td><td>15.000</td><td>8</td><td>2016-05-31 11:00:00.0000000</td><td>4</td><td>2016-05-31 11:00:00.0000000</td></tr><tr><td>231411</td><td>73586</td><td>170</td><td>20 mm Anti static bubble wrap (Blue) 50m</td><td>7</td><td>40</td><td>102.00</td><td>15.000</td><td>40</td><td>2016-05-31 11:00:00.0000000</td><td>4</td><td>2016-05-31 11:00:00.0000000</td></tr></table>"
                        ]
                    },
                    "execution_count": 2,
                    "metadata": {},
                    "output_type": "execute_result"
                }
            ],
            "source": [
                "-- Tabellen kontrollieren: Bestellungen\n",
                "SELECT TOP (5) * FROM Sales.Orders  ORDER BY OrderID DESC;\n",
                "SELECT TOP (10) * FROM Sales.OrderLines ORDER BY OrderLineID DESC;"
            ]
        },
        {
            "attachments": {},
            "cell_type": "markdown",
            "metadata": {
                "azdata_cell_guid": "b5c77b63-cda2-4d19-b26a-14e0b4a3ca43"
            },
            "source": [
                "**2\\. Bestellungen ausliefern**\n",
                "\n",
                "Erstelle alle Queries, um deine oben erstelle Bestellung nun auszuliefern: \n",
                "\n",
                "- Aktualisiere alle Bestellzeilen mit der _OrderID_ der letzten Bestellung des Kunden \"Nils Kaulins\" (gleich wie oben).\n",
                "- Setze in der Tabelle _Sales.OrderLines_ das Feld _PickedQuantity_ auf den Wert von _Quantity_ und _PickingCompletedWhen_ und _LastEditedWhen_ auf das aktuelle Datum."
            ]
        },
        {
            "cell_type": "code",
            "execution_count": 3,
            "metadata": {
                "azdata_cell_guid": "627acf73-2bd2-4566-8704-755df89bfaa4",
                "vscode": {
                    "languageId": "sql"
                }
            },
            "outputs": [
                {
                    "data": {
                        "text/html": [
                            "(2 rows affected)"
                        ]
                    },
                    "metadata": {},
                    "output_type": "display_data"
                },
                {
                    "data": {
                        "text/html": [
                            "Total execution time: 00:00:00.012"
                        ]
                    },
                    "metadata": {},
                    "output_type": "display_data"
                }
            ],
            "source": [
                "-- Bestellzeilen aktualisieren\n",
                "UPDATE Sales.OrderLines SET \n",
                "    PickedQuantity = Quantity, \n",
                "    PickingCompletedWhen = GETDATE(), \n",
                "    LastEditedWhen = GETDATE()\n",
                "WHERE OrderID = (\n",
                "    SELECT TOP (1) OrderID FROM Sales.Orders WHERE CustomerID = 1018 ORDER BY OrderID DESC\n",
                ");"
            ]
        },
        {
            "attachments": {},
            "cell_type": "markdown",
            "metadata": {
                "azdata_cell_guid": "499ff63a-a83b-4d3c-bd67-d2293bc1925f"
            },
            "source": [
                "Die Kontaktperson hat die Ware selber abgeholt: In den Tabellen _Sales.Orders_ soll \n",
                "\n",
                "- das Feld _PickedByPersonID_ auf die _ContactPersonID_ und \n",
                "- das Feld _PickingCompletedWhen_ und _LastEditedWhen_ auf das aktuelle Datum gesetzt werden."
            ]
        },
        {
            "cell_type": "code",
            "execution_count": 4,
            "metadata": {
                "azdata_cell_guid": "f8f00268-0f6b-429b-b9a0-5b38e587d3e7",
                "tags": [],
                "vscode": {
                    "languageId": "sql"
                }
            },
            "outputs": [
                {
                    "data": {
                        "text/html": [
                            "(1 row affected)"
                        ]
                    },
                    "metadata": {},
                    "output_type": "display_data"
                },
                {
                    "data": {
                        "text/html": [
                            "Total execution time: 00:00:00.012"
                        ]
                    },
                    "metadata": {},
                    "output_type": "display_data"
                }
            ],
            "source": [
                "-- Bestellung aktualisieren\n",
                "UPDATE Sales.Orders \n",
                "SET PickedByPersonID = ContactPersonID, \n",
                "    PickingCompletedWhen = GETDATE(), \n",
                "    LastEditedWhen = GETDATE() \n",
                "WHERE OrderID = (\n",
                "    SELECT TOP (1) OrderID FROM Sales.Orders WHERE CustomerID = 1018 ORDER BY OrderID DESC\n",
                ")"
            ]
        },
        {
            "attachments": {},
            "cell_type": "markdown",
            "metadata": {
                "azdata_cell_guid": "95677ece-150f-4116-bf24-f16e58764274"
            },
            "source": [
                "**3\\. Reduziere dann den Lagerbestand** **(Zusatzaufgabe,** **freiwillig)**\n",
                "\n",
                "- In _Warehouse.StockItemHoldings_ muss die Anzahl (_QuantityOnHand_) je Bestellzeile entsprechend reduziert werden. Wie du Werte aus einer Tabelle in eine andere kopierst, wird z.B. auf [dieser Webseite](https://www.monsterli.ch/blog/datenbank/sql-update-datensatz-erganzen-mit-einem-wert-aus-einer-anderen-tabelle/) erklärt. \n",
                "- Aktualisiere auch die Felder _LastEditedBy_ und _LastEditedWhen_ gleich wie bei den obigen Aufgaben.\n",
                "\n",
                "**Tipp:** Wenn es zu schwierig ist, kannst du ausnahmsweise die benötigten IDs manuell aus den Tabellen auslesen und fix in deine Query rein schreiben."
            ]
        },
        {
            "cell_type": "code",
            "execution_count": 5,
            "metadata": {
                "azdata_cell_guid": "6ea8187f-c23a-420b-99ef-953551cce784",
                "tags": [],
                "vscode": {
                    "languageId": "sql"
                }
            },
            "outputs": [
                {
                    "ename": "",
                    "evalue": "Msg 156, Level 15, State 1, Line 17\r\nFalsche Syntax in der Nähe des WHERE-Schlüsselworts.",
                    "output_type": "error",
                    "traceback": []
                },
                {
                    "data": {
                        "text/html": [
                            "Total execution time: 00:00:00.002"
                        ]
                    },
                    "metadata": {},
                    "output_type": "display_data"
                }
            ],
            "source": [
                "-- Lagerbestand anpassen\n",
                "-- Mit SELECT (Unterabfrage)\n",
                "UPDATE Warehouse.StockItemHoldings \n",
                "SET QuantityOnHand = QuantityOnHand - ( \n",
                "        SELECT TOP (1) PickedQuantity FROM Sales.OrderLines \n",
                "        WHERE Warehouse.StockItemHoldings.StockItemID = Sales.OrderLines.StockItemID \n",
                "        AND Sales.OrderLines.OrderID = (\n",
                "            SELECT TOP (1) OrderID FROM Sales.Orders WHERE CustomerID = 1018 ORDER BY OrderID DESC\n",
                "        ) \n",
                "    ), \n",
                "    LastEditedBy = 2, \n",
                "    LastEditedWhen = GETDATE()\n",
                "-- Fix auf die 2 Produkte einschränken:\n",
                "WHERE Warehouse.StockItemHoldings.StockItemID IN (6, 9);\n",
                "\n",
                "-- Oder dynamisch aus der Bestellung auslesen:\n",
                "WHERE Warehouse.StockItemHoldings.StockItemID IN (\n",
                "    SELECT StockItemID FROM Sales.OrderLines \n",
                "    WHERE OrderID = (\n",
                "        SELECT TOP (1) OrderID FROM Sales.Orders WHERE CustomerID = 1018 ORDER BY OrderID DESC\n",
                "    )\n",
                ");\n",
                "\n",
                "-- Mit JOIN\n",
                "UPDATE Warehouse.StockItemHoldings \n",
                "SET QuantityOnHand = QuantityOnHand - Sales.OrderLines.PickedQuantity, \n",
                "    LastEditedBy = 2, \n",
                "    LastEditedWhen = GETDATE()\n",
                "FROM Warehouse.StockItemHoldings \n",
                "    INNER JOIN Sales.OrderLines \n",
                "    ON Warehouse.StockItemHoldings.StockItemID = Sales.OrderLines.StockItemID\n",
                "    AND Sales.OrderLines.OrderID = (\n",
                "        SELECT TOP (1) OrderID FROM Sales.Orders WHERE CustomerID = 1018 ORDER BY OrderID DESC\n",
                "    );"
            ]
        },
        {
            "attachments": {},
            "cell_type": "markdown",
            "metadata": {
                "azdata_cell_guid": "426e0ed7-824c-4377-a0bc-2518b71bf83d"
            },
            "source": [
                "Kontrolliere vor und nach deiner Query den Wert im Lagerbestand! Zeige dazu die Datensätze aus _Warehouse.StockItemHoldings_ mit den IDs 6 und 9 an."
            ]
        },
        {
            "cell_type": "code",
            "execution_count": 6,
            "metadata": {
                "azdata_cell_guid": "52bb7da8-b590-4e89-8ad8-a1b71c0141bb",
                "vscode": {
                    "languageId": "sql"
                }
            },
            "outputs": [
                {
                    "data": {
                        "text/html": [
                            "(2 rows affected)"
                        ]
                    },
                    "metadata": {},
                    "output_type": "display_data"
                },
                {
                    "data": {
                        "text/html": [
                            "Total execution time: 00:00:00.006"
                        ]
                    },
                    "metadata": {},
                    "output_type": "display_data"
                },
                {
                    "data": {
                        "application/vnd.dataresource+json": {
                            "data": [
                                {
                                    "0": "6",
                                    "1": "196895",
                                    "2": "2022-01-04 17:10:46.0700000"
                                },
                                {
                                    "0": "9",
                                    "1": "192699",
                                    "2": "2022-01-04 17:10:46.0700000"
                                }
                            ],
                            "schema": {
                                "fields": [
                                    {
                                        "name": "StockItemID"
                                    },
                                    {
                                        "name": "QuantityOnHand"
                                    },
                                    {
                                        "name": "LastEditedWhen"
                                    }
                                ]
                            }
                        },
                        "text/html": [
                            "<table><tr><th>StockItemID</th><th>QuantityOnHand</th><th>LastEditedWhen</th></tr><tr><td>6</td><td>196895</td><td>2022-01-04 17:10:46.0700000</td></tr><tr><td>9</td><td>192699</td><td>2022-01-04 17:10:46.0700000</td></tr></table>"
                        ]
                    },
                    "execution_count": 6,
                    "metadata": {},
                    "output_type": "execute_result"
                }
            ],
            "source": [
                "-- Tabellen kontrollieren: Lagerbestand\n",
                "SELECT StockItemID, QuantityOnHand, LastEditedWhen  \n",
                "FROM Warehouse.StockItemHoldings \n",
                "WHERE StockItemID IN (6, 9);"
            ]
        },
        {
            "attachments": {},
            "cell_type": "markdown",
            "metadata": {
                "azdata_cell_guid": "16ffe59e-0545-4801-8353-40bc044d5cc1"
            },
            "source": [
                "**4\\. Bestellungen sollen nur ausgeliefert werden können, wenn genügend Artikel an Lager sind**\n",
                "\n",
                "Stelle nun sicher, dass obige Queries nur ausgefürt werden können, wenn noch genügend Artikel an Lager sind. Wenn etwas fehlt, soll alles rückgängig gemacht werden (ACID-Prinzip \"Alles oder nichts\"): \n",
                "\n",
                "- Erstelle auf der Tabelle _Warehouse.StockItemHoldings_ eine Restriction, welche sicherstellt, dass QuantityOnHand nie kleiner als 0 (null) wird."
            ]
        },
        {
            "cell_type": "code",
            "execution_count": 7,
            "metadata": {
                "azdata_cell_guid": "454ef090-49cc-4147-94be-ab117d0681b7",
                "vscode": {
                    "languageId": "sql"
                }
            },
            "outputs": [
                {
                    "data": {
                        "text/html": [
                            "Commands completed successfully."
                        ]
                    },
                    "metadata": {},
                    "output_type": "display_data"
                },
                {
                    "data": {
                        "text/html": [
                            "Total execution time: 00:00:00.015"
                        ]
                    },
                    "metadata": {},
                    "output_type": "display_data"
                }
            ],
            "source": [
                "ALTER TABLE Warehouse.StockItemHoldings \n",
                "ADD CONSTRAINT QuantityOnHand_check CHECK (QuantityOnHand >= 0);"
            ]
        },
        {
            "attachments": {},
            "cell_type": "markdown",
            "metadata": {
                "azdata_cell_guid": "a7f9b752-e605-4b37-a4a2-0a179b344950"
            },
            "source": [
                "Kopiere nun die obigen Queries zusammen und verpacke sie in eine Transaktion, welche sicherstellt, dass alles nur ausgeführt wird, wenn kein Fehler passiert (z.B. Constraint nicht erfüllt). Wenn ein Fehler passiert, soll alles Rückgängig gemacht werden.  \n",
                "\n",
                "- Verpacke die obigen UPDATE-Queries in einen TRY- / CATCH-Block.\n",
                "- Ergänze die nötigen Transaktions-Befehle (BEGIN, COMMIT, ROLLBACK). Schau dazu das Beispiel in den Kurs-Unterlagen an."
            ]
        },
        {
            "cell_type": "code",
            "execution_count": 8,
            "metadata": {
                "azdata_cell_guid": "3897a453-6a75-48f2-8946-89aff4854d71",
                "tags": [],
                "vscode": {
                    "languageId": "sql"
                }
            },
            "outputs": [
                {
                    "data": {
                        "text/html": [
                            "(2 rows affected)"
                        ]
                    },
                    "metadata": {},
                    "output_type": "display_data"
                },
                {
                    "data": {
                        "text/html": [
                            "(2 rows affected)"
                        ]
                    },
                    "metadata": {},
                    "output_type": "display_data"
                },
                {
                    "data": {
                        "text/html": [
                            "(2 rows affected)"
                        ]
                    },
                    "metadata": {},
                    "output_type": "display_data"
                },
                {
                    "data": {
                        "text/html": [
                            "(1 row affected)"
                        ]
                    },
                    "metadata": {},
                    "output_type": "display_data"
                },
                {
                    "data": {
                        "text/html": [
                            "(5 rows affected)"
                        ]
                    },
                    "metadata": {},
                    "output_type": "display_data"
                },
                {
                    "data": {
                        "text/html": [
                            "(10 rows affected)"
                        ]
                    },
                    "metadata": {},
                    "output_type": "display_data"
                },
                {
                    "data": {
                        "text/html": [
                            "(2 rows affected)"
                        ]
                    },
                    "metadata": {},
                    "output_type": "display_data"
                },
                {
                    "data": {
                        "text/html": [
                            "Total execution time: 00:00:00.063"
                        ]
                    },
                    "metadata": {},
                    "output_type": "display_data"
                },
                {
                    "data": {
                        "application/vnd.dataresource+json": {
                            "data": [
                                {
                                    "0": "COMMITED: Produkte wurden erfolgreich ausgeliefert!"
                                }
                            ],
                            "schema": {
                                "fields": [
                                    {
                                        "name": "Meldung"
                                    }
                                ]
                            }
                        },
                        "text/html": [
                            "<table><tr><th>Meldung</th></tr><tr><td>COMMITED: Produkte wurden erfolgreich ausgeliefert!</td></tr></table>"
                        ]
                    },
                    "execution_count": 8,
                    "metadata": {},
                    "output_type": "execute_result"
                },
                {
                    "data": {
                        "application/vnd.dataresource+json": {
                            "data": [
                                {
                                    "0": "73615",
                                    "1": "1018",
                                    "2": "2",
                                    "3": "3218",
                                    "4": "3218",
                                    "5": "NULL",
                                    "6": "2022-01-04",
                                    "7": "2022-01-07",
                                    "8": "36684",
                                    "9": "1",
                                    "10": "NULL",
                                    "11": "NULL",
                                    "12": "NULL",
                                    "13": "2022-01-04 17:14:26.3433333",
                                    "14": "2",
                                    "15": "2022-01-04 17:14:26.3433333"
                                },
                                {
                                    "0": "73614",
                                    "1": "1018",
                                    "2": "2",
                                    "3": "3218",
                                    "4": "3218",
                                    "5": "NULL",
                                    "6": "2022-01-04",
                                    "7": "2022-01-07",
                                    "8": "60915",
                                    "9": "1",
                                    "10": "NULL",
                                    "11": "NULL",
                                    "12": "NULL",
                                    "13": "2022-01-04 16:31:18.5466667",
                                    "14": "2",
                                    "15": "2022-01-04 16:31:18.5466667"
                                },
                                {
                                    "0": "73612",
                                    "1": "1018",
                                    "2": "2",
                                    "3": "NULL",
                                    "4": "3218",
                                    "5": "NULL",
                                    "6": "2022-01-04",
                                    "7": "2022-01-07",
                                    "8": "16892",
                                    "9": "1",
                                    "10": "NULL",
                                    "11": "NULL",
                                    "12": "NULL",
                                    "13": "NULL",
                                    "14": "2",
                                    "15": "2022-01-04 14:42:00.8292347"
                                },
                                {
                                    "0": "73611",
                                    "1": "1018",
                                    "2": "2",
                                    "3": "NULL",
                                    "4": "3218",
                                    "5": "NULL",
                                    "6": "2022-01-04",
                                    "7": "2022-01-07",
                                    "8": "77775",
                                    "9": "1",
                                    "10": "NULL",
                                    "11": "NULL",
                                    "12": "NULL",
                                    "13": "NULL",
                                    "14": "2",
                                    "15": "2022-01-04 14:35:14.1437853"
                                },
                                {
                                    "0": "73610",
                                    "1": "1018",
                                    "2": "2",
                                    "3": "NULL",
                                    "4": "3218",
                                    "5": "NULL",
                                    "6": "2022-01-04",
                                    "7": "2022-01-07",
                                    "8": "79374",
                                    "9": "1",
                                    "10": "NULL",
                                    "11": "NULL",
                                    "12": "NULL",
                                    "13": "NULL",
                                    "14": "2",
                                    "15": "2022-01-04 14:34:45.1860899"
                                }
                            ],
                            "schema": {
                                "fields": [
                                    {
                                        "name": "OrderID"
                                    },
                                    {
                                        "name": "CustomerID"
                                    },
                                    {
                                        "name": "SalespersonPersonID"
                                    },
                                    {
                                        "name": "PickedByPersonID"
                                    },
                                    {
                                        "name": "ContactPersonID"
                                    },
                                    {
                                        "name": "BackorderOrderID"
                                    },
                                    {
                                        "name": "OrderDate"
                                    },
                                    {
                                        "name": "ExpectedDeliveryDate"
                                    },
                                    {
                                        "name": "CustomerPurchaseOrderNumber"
                                    },
                                    {
                                        "name": "IsUndersupplyBackordered"
                                    },
                                    {
                                        "name": "Comments"
                                    },
                                    {
                                        "name": "DeliveryInstructions"
                                    },
                                    {
                                        "name": "InternalComments"
                                    },
                                    {
                                        "name": "PickingCompletedWhen"
                                    },
                                    {
                                        "name": "LastEditedBy"
                                    },
                                    {
                                        "name": "LastEditedWhen"
                                    }
                                ]
                            }
                        },
                        "text/html": [
                            "<table><tr><th>OrderID</th><th>CustomerID</th><th>SalespersonPersonID</th><th>PickedByPersonID</th><th>ContactPersonID</th><th>BackorderOrderID</th><th>OrderDate</th><th>ExpectedDeliveryDate</th><th>CustomerPurchaseOrderNumber</th><th>IsUndersupplyBackordered</th><th>Comments</th><th>DeliveryInstructions</th><th>InternalComments</th><th>PickingCompletedWhen</th><th>LastEditedBy</th><th>LastEditedWhen</th></tr><tr><td>73615</td><td>1018</td><td>2</td><td>3218</td><td>3218</td><td>NULL</td><td>2022-01-04</td><td>2022-01-07</td><td>36684</td><td>1</td><td>NULL</td><td>NULL</td><td>NULL</td><td>2022-01-04 17:14:26.3433333</td><td>2</td><td>2022-01-04 17:14:26.3433333</td></tr><tr><td>73614</td><td>1018</td><td>2</td><td>3218</td><td>3218</td><td>NULL</td><td>2022-01-04</td><td>2022-01-07</td><td>60915</td><td>1</td><td>NULL</td><td>NULL</td><td>NULL</td><td>2022-01-04 16:31:18.5466667</td><td>2</td><td>2022-01-04 16:31:18.5466667</td></tr><tr><td>73612</td><td>1018</td><td>2</td><td>NULL</td><td>3218</td><td>NULL</td><td>2022-01-04</td><td>2022-01-07</td><td>16892</td><td>1</td><td>NULL</td><td>NULL</td><td>NULL</td><td>NULL</td><td>2</td><td>2022-01-04 14:42:00.8292347</td></tr><tr><td>73611</td><td>1018</td><td>2</td><td>NULL</td><td>3218</td><td>NULL</td><td>2022-01-04</td><td>2022-01-07</td><td>77775</td><td>1</td><td>NULL</td><td>NULL</td><td>NULL</td><td>NULL</td><td>2</td><td>2022-01-04 14:35:14.1437853</td></tr><tr><td>73610</td><td>1018</td><td>2</td><td>NULL</td><td>3218</td><td>NULL</td><td>2022-01-04</td><td>2022-01-07</td><td>79374</td><td>1</td><td>NULL</td><td>NULL</td><td>NULL</td><td>NULL</td><td>2</td><td>2022-01-04 14:34:45.1860899</td></tr></table>"
                        ]
                    },
                    "execution_count": 8,
                    "metadata": {},
                    "output_type": "execute_result"
                },
                {
                    "data": {
                        "application/vnd.dataresource+json": {
                            "data": [
                                {
                                    "0": "231430",
                                    "1": "73615",
                                    "2": "9",
                                    "3": "USB food flash drive - banana",
                                    "4": "7",
                                    "5": "10",
                                    "6": "32.00",
                                    "7": "15.000",
                                    "8": "10",
                                    "9": "2022-01-04 17:14:44.0833333",
                                    "10": "2",
                                    "11": "2022-01-04 17:14:44.0833333"
                                },
                                {
                                    "0": "231429",
                                    "1": "73615",
                                    "2": "6",
                                    "3": "USB food flash drive - hot dog",
                                    "4": "7",
                                    "5": "20",
                                    "6": "32.00",
                                    "7": "15.000",
                                    "8": "20",
                                    "9": "2022-01-04 17:14:44.0833333",
                                    "10": "2",
                                    "11": "2022-01-04 17:14:44.0833333"
                                },
                                {
                                    "0": "231428",
                                    "1": "73614",
                                    "2": "9",
                                    "3": "USB food flash drive - banana",
                                    "4": "7",
                                    "5": "10",
                                    "6": "32.00",
                                    "7": "15.000",
                                    "8": "10",
                                    "9": "2022-01-04 17:10:46.0700000",
                                    "10": "2",
                                    "11": "2022-01-04 17:10:46.0700000"
                                },
                                {
                                    "0": "231427",
                                    "1": "73614",
                                    "2": "6",
                                    "3": "USB food flash drive - hot dog",
                                    "4": "7",
                                    "5": "20",
                                    "6": "32.00",
                                    "7": "15.000",
                                    "8": "20",
                                    "9": "2022-01-04 17:10:46.0700000",
                                    "10": "2",
                                    "11": "2022-01-04 17:10:46.0700000"
                                },
                                {
                                    "0": "231424",
                                    "1": "73612",
                                    "2": "9",
                                    "3": "USB food flash drive - banana",
                                    "4": "7",
                                    "5": "10",
                                    "6": "32.00",
                                    "7": "15.000",
                                    "8": "0",
                                    "9": "NULL",
                                    "10": "2",
                                    "11": "2022-01-04 14:42:00.8292347"
                                },
                                {
                                    "0": "231423",
                                    "1": "73612",
                                    "2": "6",
                                    "3": "USB food flash drive - hot dog",
                                    "4": "7",
                                    "5": "20",
                                    "6": "32.00",
                                    "7": "15.000",
                                    "8": "0",
                                    "9": "NULL",
                                    "10": "2",
                                    "11": "2022-01-04 14:42:00.8292347"
                                },
                                {
                                    "0": "231415",
                                    "1": "73602",
                                    "2": "9",
                                    "3": "USB food flash drive - banana",
                                    "4": "7",
                                    "5": "10",
                                    "6": "32.00",
                                    "7": "15.000",
                                    "8": "0",
                                    "9": "NULL",
                                    "10": "2",
                                    "11": "2022-01-04 14:29:33.2542765"
                                },
                                {
                                    "0": "231414",
                                    "1": "73602",
                                    "2": "6",
                                    "3": "USB food flash drive - hot dog",
                                    "4": "7",
                                    "5": "20",
                                    "6": "32.00",
                                    "7": "15.000",
                                    "8": "0",
                                    "9": "NULL",
                                    "10": "2",
                                    "11": "2022-01-04 14:29:33.2542765"
                                },
                                {
                                    "0": "231412",
                                    "1": "73586",
                                    "2": "130",
                                    "3": "Furry gorilla with big eyes slippers (Black) S",
                                    "4": "7",
                                    "5": "8",
                                    "6": "32.00",
                                    "7": "15.000",
                                    "8": "8",
                                    "9": "2016-05-31 11:00:00.0000000",
                                    "10": "4",
                                    "11": "2016-05-31 11:00:00.0000000"
                                },
                                {
                                    "0": "231411",
                                    "1": "73586",
                                    "2": "170",
                                    "3": "20 mm Anti static bubble wrap (Blue) 50m",
                                    "4": "7",
                                    "5": "40",
                                    "6": "102.00",
                                    "7": "15.000",
                                    "8": "40",
                                    "9": "2016-05-31 11:00:00.0000000",
                                    "10": "4",
                                    "11": "2016-05-31 11:00:00.0000000"
                                }
                            ],
                            "schema": {
                                "fields": [
                                    {
                                        "name": "OrderLineID"
                                    },
                                    {
                                        "name": "OrderID"
                                    },
                                    {
                                        "name": "StockItemID"
                                    },
                                    {
                                        "name": "Description"
                                    },
                                    {
                                        "name": "PackageTypeID"
                                    },
                                    {
                                        "name": "Quantity"
                                    },
                                    {
                                        "name": "UnitPrice"
                                    },
                                    {
                                        "name": "TaxRate"
                                    },
                                    {
                                        "name": "PickedQuantity"
                                    },
                                    {
                                        "name": "PickingCompletedWhen"
                                    },
                                    {
                                        "name": "LastEditedBy"
                                    },
                                    {
                                        "name": "LastEditedWhen"
                                    }
                                ]
                            }
                        },
                        "text/html": [
                            "<table><tr><th>OrderLineID</th><th>OrderID</th><th>StockItemID</th><th>Description</th><th>PackageTypeID</th><th>Quantity</th><th>UnitPrice</th><th>TaxRate</th><th>PickedQuantity</th><th>PickingCompletedWhen</th><th>LastEditedBy</th><th>LastEditedWhen</th></tr><tr><td>231430</td><td>73615</td><td>9</td><td>USB food flash drive - banana</td><td>7</td><td>10</td><td>32.00</td><td>15.000</td><td>10</td><td>2022-01-04 17:14:44.0833333</td><td>2</td><td>2022-01-04 17:14:44.0833333</td></tr><tr><td>231429</td><td>73615</td><td>6</td><td>USB food flash drive - hot dog</td><td>7</td><td>20</td><td>32.00</td><td>15.000</td><td>20</td><td>2022-01-04 17:14:44.0833333</td><td>2</td><td>2022-01-04 17:14:44.0833333</td></tr><tr><td>231428</td><td>73614</td><td>9</td><td>USB food flash drive - banana</td><td>7</td><td>10</td><td>32.00</td><td>15.000</td><td>10</td><td>2022-01-04 17:10:46.0700000</td><td>2</td><td>2022-01-04 17:10:46.0700000</td></tr><tr><td>231427</td><td>73614</td><td>6</td><td>USB food flash drive - hot dog</td><td>7</td><td>20</td><td>32.00</td><td>15.000</td><td>20</td><td>2022-01-04 17:10:46.0700000</td><td>2</td><td>2022-01-04 17:10:46.0700000</td></tr><tr><td>231424</td><td>73612</td><td>9</td><td>USB food flash drive - banana</td><td>7</td><td>10</td><td>32.00</td><td>15.000</td><td>0</td><td>NULL</td><td>2</td><td>2022-01-04 14:42:00.8292347</td></tr><tr><td>231423</td><td>73612</td><td>6</td><td>USB food flash drive - hot dog</td><td>7</td><td>20</td><td>32.00</td><td>15.000</td><td>0</td><td>NULL</td><td>2</td><td>2022-01-04 14:42:00.8292347</td></tr><tr><td>231415</td><td>73602</td><td>9</td><td>USB food flash drive - banana</td><td>7</td><td>10</td><td>32.00</td><td>15.000</td><td>0</td><td>NULL</td><td>2</td><td>2022-01-04 14:29:33.2542765</td></tr><tr><td>231414</td><td>73602</td><td>6</td><td>USB food flash drive - hot dog</td><td>7</td><td>20</td><td>32.00</td><td>15.000</td><td>0</td><td>NULL</td><td>2</td><td>2022-01-04 14:29:33.2542765</td></tr><tr><td>231412</td><td>73586</td><td>130</td><td>Furry gorilla with big eyes slippers (Black) S</td><td>7</td><td>8</td><td>32.00</td><td>15.000</td><td>8</td><td>2016-05-31 11:00:00.0000000</td><td>4</td><td>2016-05-31 11:00:00.0000000</td></tr><tr><td>231411</td><td>73586</td><td>170</td><td>20 mm Anti static bubble wrap (Blue) 50m</td><td>7</td><td>40</td><td>102.00</td><td>15.000</td><td>40</td><td>2016-05-31 11:00:00.0000000</td><td>4</td><td>2016-05-31 11:00:00.0000000</td></tr></table>"
                        ]
                    },
                    "execution_count": 8,
                    "metadata": {},
                    "output_type": "execute_result"
                },
                {
                    "data": {
                        "application/vnd.dataresource+json": {
                            "data": [
                                {
                                    "0": "6",
                                    "1": "196875",
                                    "2": "2022-01-04 17:14:44.0833333"
                                },
                                {
                                    "0": "9",
                                    "1": "192689",
                                    "2": "2022-01-04 17:14:44.0833333"
                                }
                            ],
                            "schema": {
                                "fields": [
                                    {
                                        "name": "StockItemID"
                                    },
                                    {
                                        "name": "QuantityOnHand"
                                    },
                                    {
                                        "name": "LastEditedWhen"
                                    }
                                ]
                            }
                        },
                        "text/html": [
                            "<table><tr><th>StockItemID</th><th>QuantityOnHand</th><th>LastEditedWhen</th></tr><tr><td>6</td><td>196875</td><td>2022-01-04 17:14:44.0833333</td></tr><tr><td>9</td><td>192689</td><td>2022-01-04 17:14:44.0833333</td></tr></table>"
                        ]
                    },
                    "execution_count": 8,
                    "metadata": {},
                    "output_type": "execute_result"
                }
            ],
            "source": [
                "-- Transaktion für Auslieferung starten\n",
                "BEGIN TRANSACTION;\n",
                "\n",
                "-- Versuch starten\n",
                "BEGIN TRY\n",
                "\n",
                "    -- Bestellung aktualisieren\n",
                "    UPDATE Sales.OrderLines SET \n",
                "        PickedQuantity = Quantity, \n",
                "        PickingCompletedWhen = GETDATE(), \n",
                "        LastEditedWhen = GETDATE()\n",
                "    WHERE OrderID = (\n",
                "        SELECT TOP (1) OrderID FROM Sales.Orders WHERE CustomerID = 1018 ORDER BY OrderID DESC\n",
                "    );\n",
                "\n",
                "    -- Bestellzeilen aktualisieren\n",
                "    UPDATE Sales.OrderLines SET \n",
                "        PickedQuantity = Quantity, \n",
                "        PickingCompletedWhen = GETDATE(), \n",
                "        LastEditedWhen = GETDATE()\n",
                "    WHERE OrderID = (\n",
                "        SELECT TOP (1) OrderID FROM Sales.Orders WHERE CustomerID = 1018 ORDER BY OrderID DESC\n",
                "    );\n",
                "\n",
                "    -- Lagerbestand anpassen\n",
                "    UPDATE Warehouse.StockItemHoldings \n",
                "    SET QuantityOnHand = QuantityOnHand - ( \n",
                "            SELECT TOP (1) PickedQuantity FROM Sales.OrderLines \n",
                "            WHERE Warehouse.StockItemHoldings.StockItemID = Sales.OrderLines.StockItemID \n",
                "            AND Sales.OrderLines.OrderID = (\n",
                "                SELECT TOP (1) OrderID FROM Sales.Orders WHERE CustomerID = 1018 ORDER BY OrderID DESC\n",
                "            ) \n",
                "        ), \n",
                "        LastEditedBy = 2, \n",
                "        LastEditedWhen = GETDATE()\n",
                "    WHERE Warehouse.StockItemHoldings.StockItemID IN (\n",
                "        SELECT StockItemID FROM Sales.OrderLines \n",
                "        WHERE OrderID = (\n",
                "            SELECT TOP (1) OrderID FROM Sales.Orders WHERE CustomerID = 1018 ORDER BY OrderID DESC\n",
                "        )\n",
                "    );\n",
                "\n",
                "    -- Transaktion abschliessen\n",
                "    COMMIT TRANSACTION;\n",
                "\n",
                "    -- Erfolgsmeldung ausgeben\n",
                "    SELECT 'COMMITED: Produkte wurden erfolgreich ausgeliefert!' AS Meldung\n",
                "END TRY\n",
                "\n",
                "-- Fehlerbehandlung\n",
                "BEGIN CATCH\n",
                "    -- Transaktion rückgängig machen\n",
                "    ROLLBACK TRANSACTION;\n",
                "\n",
                "    -- Fehlermeldung ausgeben\n",
                "    SELECT 'ROLLBACK: Zu wenige Produkte an Lager!' AS Meldung\n",
                "END CATCH\n",
                "\n",
                "GO\n",
                "\n",
                "-- Tabellen kontrollieren: Bestellungen\n",
                "SELECT TOP (5) * FROM Sales.Orders  ORDER BY OrderID DESC;\n",
                "SELECT TOP (10) * FROM Sales.OrderLines ORDER BY OrderLineID DESC;\n",
                "\n",
                "-- Tabellen kontrollieren: Lagerbestand\n",
                "SELECT StockItemID, QuantityOnHand, LastEditedWhen  \n",
                "FROM Warehouse.StockItemHoldings \n",
                "WHERE StockItemID IN (6, 9);\n",
                "\n",
                "GO\n"
            ]
        }
    ],
    "metadata": {
        "kernelspec": {
            "display_name": "Python 3",
            "language": "python",
            "name": "python3"
        },
        "language_info": {
            "name": "python",
            "version": "3.9.6 (default, Aug  5 2022, 15:21:02) \n[Clang 14.0.0 (clang-1400.0.29.102)]"
        },
        "vscode": {
            "interpreter": {
                "hash": "31f2aee4e71d21fbe5cf8b01ff0e069b9275f58929596ceb00d14d90e3e16cd6"
            }
        }
    },
    "nbformat": 4,
    "nbformat_minor": 2
}
