{
    "cells": [
        {
            "attachments": {},
            "cell_type": "markdown",
            "metadata": {
                "azdata_cell_guid": "6dbd59fa-8f35-46e1-a2e5-30a7c5721912"
            },
            "source": [
                "# Übungsaufgaben DQL\n",
                "\n",
                "Der folgende Block enthält Übungsaufgaben zu den DQL-Kapiteln."
            ]
        },
        {
            "attachments": {},
            "cell_type": "markdown",
            "metadata": {
                "azdata_cell_guid": "cf83f66c-31a4-4056-856e-bfca319b918d"
            },
            "source": [
                "## SELECT\n",
                "\n",
                "Löse diese Aufgaben, nachdem du den SELECT-Block bearbeitet hast."
            ]
        },
        {
            "attachments": {},
            "cell_type": "markdown",
            "metadata": {
                "azdata_cell_guid": "e377c30b-ef68-4282-b996-32daac1138b1"
            },
            "source": [
                "**1.1** Zeige alle verfügbaren (aktiven) Kunden an."
            ]
        },
        {
            "cell_type": "code",
            "execution_count": null,
            "metadata": {
                "azdata_cell_guid": "556582b6-63df-4fb7-8281-73844dd1a138",
                "vscode": {
                    "languageId": "sql"
                }
            },
            "outputs": [],
            "source": [
                "SELECT DISTINCT CustomerName FROM Sales.Customers;\n",
                "\n",
                "SELECT * FROM Sales.Customers;"
            ]
        },
        {
            "attachments": {},
            "cell_type": "markdown",
            "metadata": {
                "azdata_cell_guid": "91239e3a-4dd3-4959-b57c-92c9f5df1ebd"
            },
            "source": [
                "**1.2** Zeige die Vor- und Nachnamen aller Benutzer an"
            ]
        },
        {
            "cell_type": "code",
            "execution_count": null,
            "metadata": {
                "azdata_cell_guid": "3bff08cb-08f4-4f59-bafd-1301e48c3845",
                "vscode": {
                    "languageId": "sql"
                }
            },
            "outputs": [],
            "source": [
                "\n",
                "SELECT FullName FROM Application.People;"
            ]
        },
        {
            "attachments": {},
            "cell_type": "markdown",
            "metadata": {
                "azdata_cell_guid": "4e19f94a-5cb8-4710-bb54-ab311266cb7c"
            },
            "source": [
                "**1.3** Welche Liefermethoden kennt WWI?"
            ]
        },
        {
            "cell_type": "code",
            "execution_count": null,
            "metadata": {
                "azdata_cell_guid": "c3acb944-3009-438d-b272-afe8783174bc",
                "vscode": {
                    "languageId": "sql"
                }
            },
            "outputs": [],
            "source": [
                "SELECT DeliveryMethodName FROM Application.DeliveryMethods;"
            ]
        },
        {
            "attachments": {},
            "cell_type": "markdown",
            "metadata": {
                "azdata_cell_guid": "a7318acb-351f-403b-98fb-a653b37974b3"
            },
            "source": [
                "**1.4** Erstelle eine Abfrage auf die Tabelle _Sales.Customers,_ welche dir folgende Felder liefert: CustomerId, CustomerName, Address (Bestehend als konkatiniertes Feld aus den Feldern PostalAddressLine1, PostalAddressLine2 und PostalPostalCode)."
            ]
        },
        {
            "cell_type": "code",
            "execution_count": null,
            "metadata": {
                "azdata_cell_guid": "cb2d6c7d-af65-44c7-bffe-9fda8576bad5",
                "vscode": {
                    "languageId": "sql"
                }
            },
            "outputs": [],
            "source": [
                "SELECT CustomerId, CustomerName, PostalAddressLine1 + ', ' + PostalAddressLine2 + ', ' + PostalPostalCode AS Address FROM Sales.Customers;"
            ]
        },
        {
            "attachments": {},
            "cell_type": "markdown",
            "metadata": {
                "azdata_cell_guid": "1f6dbeb2-9544-4854-b59b-0602f665edec"
            },
            "source": [
                "## WHERE-Bedingungen\n",
                "\n",
                "Führe diese Aufgaben aus, nachdem du den Block \"WHERE-Bedingungen\" bearbeitet hast."
            ]
        },
        {
            "attachments": {},
            "cell_type": "markdown",
            "metadata": {
                "azdata_cell_guid": "620dfdb3-3fe6-432c-80df-8eadf3295be9"
            },
            "source": [
                "**2.1** Wie viele Mitarbeiter zählt WWI?"
            ]
        },
        {
            "cell_type": "code",
            "execution_count": null,
            "metadata": {
                "azdata_cell_guid": "e0e9139a-dcf9-4968-8945-89baf99e380f",
                "vscode": {
                    "languageId": "sql"
                }
            },
            "outputs": [],
            "source": [
                "SELECT COUNT(IsEmployee) AS 'Anzahl Mitarbeiter' FROM Application.People WHERE IsEmployee = 1;\n",
                "-- oder\n",
                "SELECT COUNT(*) AS 'Anzahl Mitarbeiter' FROM [WideWorldImporters].[Application].[People] WHERE IsEmployee = 1;"
            ]
        },
        {
            "attachments": {},
            "cell_type": "markdown",
            "metadata": {
                "azdata_cell_guid": "2de8de94-59e4-4bd3-bea7-d1a5cd689cd9"
            },
            "source": [
                "**2.2** Wie viele Mitarbeiter sind Verkäufer?"
            ]
        },
        {
            "cell_type": "code",
            "execution_count": null,
            "metadata": {
                "azdata_cell_guid": "10f66950-6798-4fb4-a7ff-261e7110b570",
                "vscode": {
                    "languageId": "sql"
                }
            },
            "outputs": [],
            "source": [
                "SELECT COUNT(*) FROM Application.People WHERE IsEmployee = 1 AND IsSalesperson = 1\n",
                "-- oder\n",
                "SELECT COUNT(*) FROM [WideWorldImporters].[Application].[People] WHERE IsSalesperson = 1;"
            ]
        },
        {
            "attachments": {},
            "cell_type": "markdown",
            "metadata": {
                "azdata_cell_guid": "985f5260-c122-4e05-af8a-25ea03ba1dc6"
            },
            "source": [
                "**2.3**: Gebe alle Städte der Städte-Tabelle aus, welche mehr als 10'000 Einwohner haben."
            ]
        },
        {
            "cell_type": "code",
            "execution_count": null,
            "metadata": {
                "azdata_cell_guid": "71d56dbb-2e93-433d-ac44-8a335bbc2ddd",
                "vscode": {
                    "languageId": "sql"
                }
            },
            "outputs": [],
            "source": [
                "SELECT DISTINCT CityName FROM Application.Cities WHERE LatestRecordedPopulation > 10000;"
            ]
        },
        {
            "attachments": {},
            "cell_type": "markdown",
            "metadata": {
                "azdata_cell_guid": "61861da5-6ebb-41db-8b8e-accd9b8088e5"
            },
            "source": [
                "**2.4** Liste alle Städte auf, welche mit \"Ab\" beginnen."
            ]
        },
        {
            "cell_type": "code",
            "execution_count": null,
            "metadata": {
                "azdata_cell_guid": "a060f64e-0225-417d-9932-decd3567388d",
                "vscode": {
                    "languageId": "sql"
                }
            },
            "outputs": [],
            "source": [
                "SELECT DISTINCT CityName FROM Application.Cities WHERE CityName LIKE 'Ab%';"
            ]
        },
        {
            "attachments": {},
            "cell_type": "markdown",
            "metadata": {
                "azdata_cell_guid": "80311fa8-543a-4be7-9904-c36c441f3c35"
            },
            "source": [
                "## JOIN\n",
                "\n",
                "Führe diese Aufgaben aus, nachdem du den JOIN-Block bearbeitet hast."
            ]
        },
        {
            "attachments": {},
            "cell_type": "markdown",
            "metadata": {
                "azdata_cell_guid": "bcf4e102-b824-4ae5-98ea-4cf6ca988dfb"
            },
            "source": [
                "**3.1** Erstelle eine Abfrage, welche die Tabelle _Customers_ mit der Tabelle _Orders_ vereint. Es sollen nur Kunden ausgegeben werden, welche etwas bestellt haben. Die Abfrage soll mindestens die Felder _CustomerId_ und _OrderId_ enthalten."
            ]
        },
        {
            "cell_type": "code",
            "execution_count": null,
            "metadata": {
                "azdata_cell_guid": "d6c71696-1ec1-4bb6-9aca-b0106441793c",
                "vscode": {
                    "languageId": "sql"
                }
            },
            "outputs": [],
            "source": [
                "SELECT * FROM Sales.Customers c \n",
                "JOIN Sales.orders o ON c.CustomerID = o.CustomerID;"
            ]
        },
        {
            "attachments": {},
            "cell_type": "markdown",
            "metadata": {
                "azdata_cell_guid": "22f43af3-6b9a-4ccb-a2b4-85d9e17101de"
            },
            "source": [
                "**3.2** Welche Kunden sind in der Datenbank erfasst, welche über keine Bestellungen verfügen? Liste explizit die Kunden auf, welche über keine Bestellung verfügen."
            ]
        },
        {
            "cell_type": "code",
            "execution_count": null,
            "metadata": {
                "azdata_cell_guid": "5a4330c0-4b22-4309-b94c-56c4be31e04a",
                "vscode": {
                    "languageId": "sql"
                }
            },
            "outputs": [],
            "source": [
                "SELECT CustomerID FROM Sales.Customers\n",
                "EXCEPT \n",
                "SELECT CustomerID FROM Sales.orders;"
            ]
        },
        {
            "cell_type": "code",
            "execution_count": null,
            "metadata": {
                "vscode": {
                    "languageId": "sql"
                }
            },
            "outputs": [],
            "source": [
                "SELECT c.CustomerID, o.CustomerID FROM Sales.Customers c \n",
                "LEFT JOIN Sales.orders o ON c.customerid = o.customerid\n",
                "WHERE o.customerid IS NULL;"
            ]
        },
        {
            "cell_type": "code",
            "execution_count": null,
            "metadata": {
                "vscode": {
                    "languageId": "sql"
                }
            },
            "outputs": [],
            "source": [
                "SELECT c.customerid FROM Sales.customers c\n",
                "WHERE c.customerid NOT IN (SELECT customerid FROM Sales.orders);"
            ]
        },
        {
            "attachments": {},
            "cell_type": "markdown",
            "metadata": {
                "azdata_cell_guid": "3c736e4a-c217-4ef6-a12e-8c60de144adc"
            },
            "source": [
                "**3.3** Gebe für jeden Kunden die dazugehörige Rechnungsadresse aus. (Tipp: Das Feld _BillToCustomerId_ zeigt dir, wer der Rechnungsempfänger ist)."
            ]
        },
        {
            "cell_type": "code",
            "execution_count": null,
            "metadata": {
                "azdata_cell_guid": "af45b9d1-8415-4c8f-8b61-fb5347688b1d",
                "vscode": {
                    "languageId": "sql"
                }
            },
            "outputs": [],
            "source": [
                "SELECT CustomerName, DeliveryAddressLine1 + ' ' + DeliveryAddressLine2 + ' ' + DeliveryPostalCode + ' ' + PostalAddressLine1 + ' ' + PostaladdressLine2 AS ADRESSE FROM Sales.customers\n",
                "WHERE CustomerID IN (SELECT DISTINCT BillToCustomerID )"
            ]
        },
        {
            "attachments": {},
            "cell_type": "markdown",
            "metadata": {
                "azdata_cell_guid": "c6342a08-78c2-4621-9c33-ae28019f16ca"
            },
            "source": [
                "## CASE\n",
                "\n",
                "Führe diese Aufgaben aus, nachdem du den CASE-Block bearbeitet hast."
            ]
        },
        {
            "attachments": {},
            "cell_type": "markdown",
            "metadata": {
                "azdata_cell_guid": "c80780b3-fad7-47a3-9d13-e7fdbf3f8b15"
            },
            "source": [
                "**4.1** Erstelle folgende Abfrage: Liste Personen auf, die entweder Mitarbeiter, Verkäufer oder Kunde sind. Das Resultat soll dabei folgende Felder enthalten: Vollständiger Name, Telefon-Nummer, Fax-Nummer, Rolle. In der Rolle sollen folgende Werte abgebildet werden: Mitarbeiter, wenn eine Peron ein Mitarbeiter ist, Verkäufer, wenn eine Person Verkäufer ist, Kunde, wenn die Person weder Verkäufer noch Mitarbeiter ist. Einträge ohne Telefon unx Fax-Nummer sollen herausgefiltert werden."
            ]
        },
        {
            "cell_type": "code",
            "execution_count": null,
            "metadata": {
                "azdata_cell_guid": "9e7ab674-256e-4207-b2c8-8a470ca1f77f",
                "vscode": {
                    "languageId": "sql"
                }
            },
            "outputs": [],
            "source": [
                "SELECT FullName, PhoneNumber, FaxNumber, \n",
                "    CASE\n",
                "        WHEN IsSalesperson = 1 THEN 'Verkäufer'\n",
                "        WHEN IsEmployee = 1 THEN 'Arbeiter'\n",
                "        ELSE 'Kunde'\n",
                "    END AS 'ROLLE'\n",
                "FROM Application.People WHERE PhoneNumber IS NOT NULL OR FaxNumber IS NOT NULL;"
            ]
        },
        {
            "attachments": {},
            "cell_type": "markdown",
            "metadata": {
                "azdata_cell_guid": "5715e06a-8fb4-4b76-a64a-6f52c9f90847"
            },
            "source": [
                "## Gruppierungen\n",
                "\n",
                "Führe diese Aufgaben aus, nachdem du den Gruppierungs-Block bearbeitet hast."
            ]
        },
        {
            "attachments": {},
            "cell_type": "markdown",
            "metadata": {
                "azdata_cell_guid": "e86259c6-4714-41bd-bac7-dae803c7feb5"
            },
            "source": [
                "**5.1** Finde die zehn teuersten Bestellungen, welche WWI entgegennehmen durfte"
            ]
        },
        {
            "cell_type": "code",
            "execution_count": null,
            "metadata": {
                "azdata_cell_guid": "2b304af7-d127-4fec-b851-ef5f58ca9a5e",
                "vscode": {
                    "languageId": "sql"
                }
            },
            "outputs": [],
            "source": [
                "SELECT TOP 10 ((Quantity * UnitPrice) + TaxRate) AS PRICE FROM Sales.OrderLines;"
            ]
        },
        {
            "cell_type": "code",
            "execution_count": null,
            "metadata": {
                "vscode": {
                    "languageId": "sql"
                }
            },
            "outputs": [],
            "source": [
                "SELECT TOP (10) ol.OrderID, SUM(ol.Quantity*ol.UnitPrice) AS 'TOTAL' FROM Sales.OrderLines ol \n",
                "GROUP BY ol.OrderID\n",
                "ORDER BY TOTAL DESC;"
            ]
        },
        {
            "attachments": {},
            "cell_type": "markdown",
            "metadata": {
                "azdata_cell_guid": "6ee9c3b1-61f7-4399-b802-81a04b83d16c"
            },
            "source": [
                "**5.2** Zu welchen Kunden gehören die zehn teuersten Bestellungen?"
            ]
        },
        {
            "cell_type": "code",
            "execution_count": null,
            "metadata": {
                "azdata_cell_guid": "0cd367c8-4cb5-40a6-9372-f0e7575bda7e",
                "vscode": {
                    "languageId": "sql"
                }
            },
            "outputs": [],
            "source": [
                "SELECT c.CustomerName FROM Sales.Customers c\n",
                "JOIN Sales.Orders o ON c.CustomerID = o.CustomerID\n",
                "JOIN \n",
                "(SELECT TOP (10) ol.OrderID, SUM(ol.Quantity*ol.UnitPrice) AS 'TOTAL' FROM Sales.OrderLines ol\n",
                "GROUP BY ol.OrderID\n",
                "ORDER BY TOTAL DESC) u ON o.OrderID = u.OrderID;"
            ]
        },
        {
            "attachments": {},
            "cell_type": "markdown",
            "metadata": {
                "azdata_cell_guid": "1e337195-ccd3-4c2f-b030-1b89058aa237"
            },
            "source": [
                "**5.3** Welches sind die zehn Umsatzstärksten Kunden von WWI?"
            ]
        },
        {
            "cell_type": "code",
            "execution_count": null,
            "metadata": {
                "azdata_cell_guid": "2e665582-6a72-46c3-8127-c14887bbdea0",
                "vscode": {
                    "languageId": "sql"
                }
            },
            "outputs": [],
            "source": [
                "SELECT TOP 10 c.CustomerName, SUM(ol.UnitPrice * ol.Quantity) AS GESAMTUMSATZ FROM Sales.Customers c\n",
                "JOIN Sales.Orders o ON c.CustomerID=o.CustomerID\n",
                "JOIN Sales.OrderLines ol ON o.Orde"
            ]
        },
        {
            "attachments": {},
            "cell_type": "markdown",
            "metadata": {
                "azdata_cell_guid": "21a62d7b-a097-463a-a0e3-16c824943d55"
            },
            "source": [
                "**5.4** Wie viele Provinzen haben die einzelnen hinterlegten Lieferländer von WWI? Gebe dazu die Anzahl Provinzen gruppiert nach Land aus."
            ]
        },
        {
            "cell_type": "code",
            "execution_count": null,
            "metadata": {
                "vscode": {
                    "languageId": "sql"
                }
            },
            "outputs": [],
            "source": [
                "SELECT ac.CountryName, COUNT(asp.StateProvinceID) AS Provinzanzahl FROM Application.Countries ac\n",
                "JOIN Application.StateProvinces asp ON ac.CountryID = asp.CountryID\n",
                "GROUP BY ac.CountryName"
            ]
        },
        {
            "attachments": {},
            "cell_type": "markdown",
            "metadata": {
                "azdata_cell_guid": "ee369721-7cca-4ff4-a618-4bc4bac06cfe"
            },
            "source": [
                "**5.5** Wie setzt sich das Resultat aus 2.14.4 zusammen? Erläutere die Zusammenhänge."
            ]
        },
        {
            "cell_type": "markdown",
            "metadata": {
                "azdata_cell_guid": "a345dbeb-5c2e-4e16-94c1-d32a451c16f3"
            },
            "source": []
        },
        {
            "attachments": {},
            "cell_type": "markdown",
            "metadata": {
                "azdata_cell_guid": "eebcf739-c603-4b62-a8a6-0e832f0726ac"
            },
            "source": [
                "**5.6** Finde alle Bestellungen, welche mehr oder genau 5 Bestellpositionen haben."
            ]
        },
        {
            "cell_type": "code",
            "execution_count": null,
            "metadata": {
                "azdata_cell_guid": "eb1c8d97-2311-4fef-86b5-089f53149f22",
                "vscode": {
                    "languageId": "sql"
                }
            },
            "outputs": [],
            "source": [
                "SELECT OrderID, COUNT(OrderLineID) AS ANZAHL_LINES FROM Sales.OrderLines\n",
                "GROUP BY OrderID\n",
                "HAVING COUNT(OrderLineID) >= 5;"
            ]
        },
        {
            "attachments": {},
            "cell_type": "markdown",
            "metadata": {
                "azdata_cell_guid": "1baaee77-c58f-495a-ae05-0a2ea20a8f37"
            },
            "source": [
                "## UNION\n",
                "\n",
                "Führe diese Aufgaben aus, nachdem du den UNION-Block bearbeitet hast."
            ]
        },
        {
            "attachments": {},
            "cell_type": "markdown",
            "metadata": {
                "azdata_cell_guid": "de629a79-f465-467f-a256-f81723f7255e"
            },
            "source": [
                "**6.1** Welche Kundenkategorien kannte WWI über die gesamte Laufbahn? Liste alle namentlich auf."
            ]
        },
        {
            "cell_type": "code",
            "execution_count": null,
            "metadata": {
                "azdata_cell_guid": "7aa221af-d640-4a6a-99dc-4dd31ada3528",
                "vscode": {
                    "languageId": "sql"
                }
            },
            "outputs": [],
            "source": [
                "SELECT CustomerCategoryID, CustomerCategoryName FROM Sales.CustomerCategories\n",
                "\n",
                "WHERE CustomerCategoryID IN(SELECT DISTINCT CustomerCategoryID FROM Sales.Customers);"
            ]
        },
        {
            "attachments": {},
            "cell_type": "markdown",
            "metadata": {
                "azdata_cell_guid": "5250baac-2483-4aac-9cf8-d4884f7d056c"
            },
            "source": [
                "## Spezialaufgaben\n",
                "\n",
                "Führe die folgenden Aufgaben aus, nachdem du die anderen Blöcke fertig bearbeitet hast"
            ]
        },
        {
            "attachments": {},
            "cell_type": "markdown",
            "metadata": {
                "azdata_cell_guid": "d48d50e8-26a2-47a6-b275-e1dd08111896"
            },
            "source": [
                "**7.1** Erstelle eine Gesamtübersicht über die WWI für das Jahr 2013, die folgende Informationen enthält: Anzahl Kunden, Anzahl Bestellungen im Jahre 2013, Bestellvolumen Jan. - Mär. 2013, Bestellvolumen Mär. - Jun. 2013, Bestellvolumen Jul. - Sep. 2013, Bestellvolumen Okt - Dez. 2013."
            ]
        },
        {
            "cell_type": "code",
            "execution_count": null,
            "metadata": {
                "azdata_cell_guid": "640593a4-caf2-44e1-9262-fefaea8584d5",
                "vscode": {
                    "languageId": "sql"
                }
            },
            "outputs": [],
            "source": []
        },
        {
            "attachments": {},
            "cell_type": "markdown",
            "metadata": {
                "azdata_cell_guid": "139d5c95-c1b2-4909-9850-4f3798e5cf27"
            },
            "source": [
                "**7.2** Ermittle das gesamte Bestellvolumen für die Jahre 2013 bis 2016. Dabei soll für jedes Jahr eine eigene Spalte verwendet werden."
            ]
        },
        {
            "cell_type": "code",
            "execution_count": null,
            "metadata": {
                "azdata_cell_guid": "914f0be6-5880-461f-8ffc-864d9066120a",
                "vscode": {
                    "languageId": "sql"
                }
            },
            "outputs": [],
            "source": []
        }
    ],
    "metadata": {
        "kernelspec": {
            "display_name": "Python 3",
            "language": "python",
            "name": "python3"
        },
        "language_info": {
            "name": "python",
            "version": "3.9.6 (default, Aug  5 2022, 15:21:02) \n[Clang 14.0.0 (clang-1400.0.29.102)]"
        },
        "vscode": {
            "interpreter": {
                "hash": "31f2aee4e71d21fbe5cf8b01ff0e069b9275f58929596ceb00d14d90e3e16cd6"
            }
        }
    },
    "nbformat": 4,
    "nbformat_minor": 2
}
