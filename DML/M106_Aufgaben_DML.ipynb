{
    "cells": [
        {
            "attachments": {},
            "cell_type": "markdown",
            "metadata": {
                "azdata_cell_guid": "08cc9dc5-0641-4d1e-b1e2-a8ecc9035bf9"
            },
            "source": [
                "# Übungsaufgaben DML\n",
                "\n",
                "Der folgende Block enthält Übungsaufgaben zu den Kapiteln INSERT, DELETE, UPDATE und MERGE.\n",
                "\n",
                "**Hinweis**: Wenn nichts anderes angegeben wurde, beziehen sich diese Aufgaben auf den Datensatz der WWI-Datenbank."
            ]
        },
        {
            "attachments": {},
            "cell_type": "markdown",
            "metadata": {
                "azdata_cell_guid": "b0183c7a-9550-49ff-bf35-b4737c8b0f2b"
            },
            "source": [
                "## INSERT\n",
                "\n",
                "Führe diese Aufgaben aus, nachdem du den INSERT-Block bearbeitet hast."
            ]
        },
        {
            "attachments": {},
            "cell_type": "markdown",
            "metadata": {
                "azdata_cell_guid": "06971469-2db3-46ec-8015-f549de96feaf"
            },
            "source": [
                "**1.1** Erstelle eine neue Kontaktperson in der Tabelle _Application.People_ mit folgenden Details:\n",
                "\n",
                "- PersonId: 1500\n",
                "- FullName: Maria Herzog\n",
                "- PreferredName: Maria\n",
                "- SearchName: Maria Maria Herzog\n",
                "- IsPermittedToLogon: 0\n",
                "- LogonName: NO LOGON\n",
                "- IsExternalLogonProvider: 0\n",
                "- HashedPassword: NULL\n",
                "- IsSystemUser: 0\n",
                "- IsEmployee: 0\n",
                "- IsSalesPerson: 0\n",
                "- UserPreferences: NULL\n",
                "- PhoneNumber: +41 44 124 34 45\n",
                "- FaxNumber: NULL\n",
                "- EMailAddress: [maria@spielhandelsag.ch](mailto:maria@spielhandelsag.ch)\n",
                "- Photo: NULL\n",
                "- CustomFields: NULL\n",
                "- OtherLanguages: NULL\n",
                "- LastEditedBy: 1\n",
                "- ValidFrom: Aktuelles Datum\n",
                "- ValidTo: 9999-12-31"
            ]
        },
        {
            "cell_type": "code",
            "execution_count": null,
            "metadata": {
                "azdata_cell_guid": "275d6686-53f4-4b42-a0f7-332964b4a6bf",
                "language": "sql",
                "vscode": {
                    "languageId": "sql"
                }
            },
            "outputs": [],
            "source": [
                "INSERT INTO Applicaton.People (\n",
                "    PersonId, FullName, PreferredName, IsPermittedToLogon, LogonName, IsExternalLogonProvider,\n",
                "    HashedPassword, IsSystemUser, IsEmployee, IsSalesperson, UserPreferences, PhoneNumber, FaxNumber,\n",
                "    EmailAddress, Photo, CustomFields, LastEditedBy\n",
                ") VALUES (\n",
                "    1500,\n",
                "    'Maria Herzog',\n",
                "    'Maria',\n",
                "    0,\n",
                "    'NO LOGON',\n",
                "    0,\n",
                "    NULL,\n",
                "    0,\n",
                "    0,\n",
                "    0,\n",
                "    NULL,\n",
                "    '+41 44 124 34 45',\n",
                "    NULL,\n",
                "    'maria@spielhandelsag.ch',\n",
                "    NULL,\n",
                "    NULL,\n",
                "    1\n",
                ");"
            ]
        },
        {
            "attachments": {},
            "cell_type": "markdown",
            "metadata": {
                "azdata_cell_guid": "20439388-ed53-4ea3-8db3-eb199da5496d"
            },
            "source": [
                "**1.2** Erstelle drei weitere Benutzer in der gleichen Query. Du kannst die Felder beliebig bestimmen. **Wichtig**: Verwende die IDs 1501, 1502 und 1503 für die Benutzer, diese benötigen wir später. Der Benutzer mit der ID 1503 hat einen vorgegebenen Namen, dieser heisst \"Franz Müller\""
            ]
        },
        {
            "cell_type": "code",
            "execution_count": null,
            "metadata": {
                "azdata_cell_guid": "fd6350bf-489b-4828-a2d7-42d50b44adf0",
                "language": "sql",
                "vscode": {
                    "languageId": "sql"
                }
            },
            "outputs": [],
            "source": [
                "INSERT INTO Application.People (\n",
                "    PersonId, FullName, PreferredName, IsPermittedToLogon, LogonName, IsExternalLogonProvider,\n",
                "    HashedPassword, IsSystemUser, IsEmployee, IsSalesperson, UserPreferences, PhoneNumber, FaxNumber,\n",
                "    EmailAddress, Photo, CustomFields, LastEditedBy\n",
                ") VALUES\n",
                "    (1501, 'Sepp Stricher', 'Sepp', 0, 'NO LOGON', 0, NULL, 0, 0, 0, NULL, '+41 79 123 12 12', NULL, 'sepp.stricher@gmx.ch', NULL, NULL, 1),\n",
                "    (1502, 'Peter Lacher', 'Peter', 0, 'NO LOGON', 0, NULL, 0, 0, 0, NULL, '+41 56 355 56 23', NULL, 'peter.lacher@gmx.ch', NULL, NULL, 1),\n",
                "    (1503, 'Franz Müller', 'Franz', 0, 'NO LOGON', 0, NULL, 0, 0, 0, NULL, '+41 77 546 23 90', NULL, 'franz.mueller@gmx.ch', NULL, NULL, 1);\n"
            ]
        },
        {
            "attachments": {},
            "cell_type": "markdown",
            "metadata": {
                "azdata_cell_guid": "fbd4228f-9fde-4467-8472-f1092e596905"
            },
            "source": [
                "**1.3** Erstelle einen neuen Kunden in der Tabelle _Sales.Customers_. Eröffne dazu die Firma \"SpielHandels AG\" mit den Kontaktpersonen \"Maria Herzog\" und \"Franz Müller\". Den Rest der Felder darfst du beliebig füllen. _Tipp: Du darfst auch einen bestehenden Record kopieren und anpassen._"
            ]
        },
        {
            "cell_type": "code",
            "execution_count": null,
            "metadata": {
                "azdata_cell_guid": "6a5ed90e-37f5-4878-84c3-213704e5f94e",
                "language": "sql",
                "vscode": {
                    "languageId": "sql"
                }
            },
            "outputs": [],
            "source": [
                "INSERT INTO Sales.Customers (\n",
                "    CustomerId, CustomerName, BillToCustomerId, CustomerCategoryId, BuyingGroupId, PrimaryContactPersonId, AlternateContactPersonId,\n",
                "    DeliveryMethodID, DeliveryCityId, PostalCityId, CreditLimit, AccountOpenedDate, StandardDiscountPercentage,\n",
                "    IsStatementSent, IsOnCreditHold, PaymentDays, PhoneNumber, FaxNumber, DeliveryRun,\n",
                "    RunPosition, WebsiteURL, DeliveryAddressLine1, DeliveryAddressLine2, DeliveryPostalCode, DeliveryLocation,\n",
                "    PostalAddressLine1, PostalAddressLine2, PostalPostalCode, LastEditedBy\n",
                ") VALUES (1100, 'SpielHandels AG', 1100, 5, NULL, 1500, 1503, 3, 35684, 35684, 3000.00, GETDATE(), 0.000, 0, 0, 7, '+41 41 123 34 45', 'n/a', NULL, NULL, 'http://www.spielhandelsag.ch', 'Stadtstrasse 12', '6000 Luzern', 35684, NULL, 'Stadtstrasse 12', 'Luzern', 35684, 1)\n",
                "\n",
                "\n",
                "\n",
                "--nicht verstanden nochmals anschauen"
            ]
        },
        {
            "attachments": {},
            "cell_type": "markdown",
            "metadata": {
                "azdata_cell_guid": "ea8ec5c1-83ad-4a18-9af0-bad7bdc1da01"
            },
            "source": [
                "## UPDATE\n",
                "\n",
                "Führe diese Aufgaben aus, nachdem du den UPDATE-Block bearbeitet hast."
            ]
        },
        {
            "attachments": {},
            "cell_type": "markdown",
            "metadata": {
                "azdata_cell_guid": "3da0c501-4455-4e9a-bfe9-7427927c5cce"
            },
            "source": [
                "**2.1** Die Person mit der ID 1502 hat sich bei dir gemeldet, dass sie neu _Meier_ heisst. Erstelle eine Abfrage, welches mittels UPDATE-Statement den Nachname der betroffenen Person zu _Meier_ ändert."
            ]
        },
        {
            "cell_type": "code",
            "execution_count": null,
            "metadata": {
                "azdata_cell_guid": "c245d7d8-a2c2-4364-ae6f-8693b5b933da",
                "language": "sql",
                "vscode": {
                    "languageId": "sql"
                }
            },
            "outputs": [],
            "source": [
                "UPDATE Application.People SET FullName = 'Peter Meier' WHERE PersonId = 1502;\n",
                "SELECT * FROM Application.People where PersonID = 1502;"
            ]
        },
        {
            "attachments": {},
            "cell_type": "markdown",
            "metadata": {
                "azdata_cell_guid": "adef7123-c862-42ec-8ac1-f38f6755646c"
            },
            "source": [
                "## DELETE\n",
                "\n",
                "Führe diese Aufgaben aus, nachdem du den DELETE-Block bearbeitet hast."
            ]
        },
        {
            "attachments": {},
            "cell_type": "markdown",
            "metadata": {
                "azdata_cell_guid": "e1ea77fb-6060-429b-97d6-0c22729bf16e"
            },
            "source": [
                "**3.1** Du hast durch ein Telefonat mitbekommen, dass der Mitarbeiter \"Franz Müller\" gekündigt hat. Entferne dessen Record anhand der Namen aus dem System. **Wichtig**: Stelle sicher dass nur Franz Müller entfernt wird."
            ]
        },
        {
            "cell_type": "code",
            "execution_count": null,
            "metadata": {
                "azdata_cell_guid": "5d99faf7-c9a3-4484-bbc1-a0b7cbfa2c92",
                "language": "sql",
                "vscode": {
                    "languageId": "sql"
                }
            },
            "outputs": [],
            "source": [
                "DELETE FROM Application.People WHERE PersonID = 1503;\n",
                "SELECT * FROM Application.People WHERE FullName = 'Franz Müller';"
            ]
        },
        {
            "attachments": {},
            "cell_type": "markdown",
            "metadata": {
                "azdata_cell_guid": "755c328e-9a07-403e-ae71-ac0f66f511b1"
            },
            "source": [
                "## MERGE\n",
                "\n",
                "Führe diese Aufgaben aus, nachdem du den MERGE-Block bearbeitet hast."
            ]
        },
        {
            "attachments": {},
            "cell_type": "markdown",
            "metadata": {
                "azdata_cell_guid": "c7cb6369-e1de-458c-982e-42ba44e54ebc"
            },
            "source": [
                "**4.1** Die IT-Abteilung möchte die Versandsoptionen ausbauen. Aktuell werden alle Delivery-Methods in der Tabelle _DeliveryMethods_ gespeichert. Es soll mittels Migration und anschliessendem Merge eine neue Tabelle _DeliveryMethodsNew_ erstellt werden. Erstelle zuerst eine neue Tabelle mit dem Namen _DeliveryMethodsNew_, welche die alten Einträge bereits enthält."
            ]
        },
        {
            "cell_type": "code",
            "execution_count": null,
            "metadata": {
                "azdata_cell_guid": "db229387-3b92-4a53-a9b7-7951e74afaf6",
                "language": "sql"
            },
            "outputs": [],
            "source": []
        },
        {
            "attachments": {},
            "cell_type": "markdown",
            "metadata": {
                "azdata_cell_guid": "861788b4-0586-4945-99d4-76486920e3f8"
            },
            "source": [
                "Erstelle anschliessend eine neue Tabelle Namens _DeliveryMethodsUpdate_, welche die gleiche Struktur und den gleichen Inhalt aufweist wie _DeliveryMethods._"
            ]
        },
        {
            "cell_type": "code",
            "execution_count": null,
            "metadata": {
                "azdata_cell_guid": "438be86d-d985-452c-a72f-80aedb6d32f8",
                "language": "sql"
            },
            "outputs": [],
            "source": []
        },
        {
            "attachments": {},
            "cell_type": "markdown",
            "metadata": {
                "azdata_cell_guid": "ad861e29-3bd0-4ee9-b319-fcde390310bb"
            },
            "source": [
                "Erstelle nun zwei neue Liefer-Optionen in der Tabelle _DeliveryMethodsUpdate_\n",
                "\n",
                "- Velokurier (ID: 11)\n",
                "- Beaming (ID: 12)\n",
                "\n",
                "Beide Lieferoptionen sollen ab 01.01.2013 verfügbar sein.\n",
                "\n",
                "Ausserdem ändert der Name der ID 1 von Post nach DHL Worldwide. Beachte, dass das ValidFrom Datum auf das heutige Datum geändert werden muss."
            ]
        },
        {
            "cell_type": "code",
            "execution_count": null,
            "metadata": {
                "azdata_cell_guid": "48da9cec-6437-4f24-a2d0-0a762ff5cb3e",
                "language": "sql"
            },
            "outputs": [],
            "source": []
        },
        {
            "attachments": {},
            "cell_type": "markdown",
            "metadata": {
                "azdata_cell_guid": "b4eeea17-4bfd-4238-882e-a1c6680317ee"
            },
            "source": [
                "Erstelle im nächsten Schritt ein Merge-Statement, welches Die Tabellen _DeliveryMethodsUpdate_ und _DeliveryMethodsNew_ merged."
            ]
        },
        {
            "cell_type": "code",
            "execution_count": null,
            "metadata": {
                "azdata_cell_guid": "c01ab15a-28e6-4a08-963e-8fb4c37bb523",
                "language": "sql"
            },
            "outputs": [],
            "source": []
        }
    ],
    "metadata": {
        "kernelspec": {
            "display_name": "Python 3",
            "language": "python",
            "name": "python3"
        },
        "language_info": {
            "name": "python",
            "version": "3.9.6 (default, Aug  5 2022, 15:21:02) \n[Clang 14.0.0 (clang-1400.0.29.102)]"
        },
        "vscode": {
            "interpreter": {
                "hash": "31f2aee4e71d21fbe5cf8b01ff0e069b9275f58929596ceb00d14d90e3e16cd6"
            }
        }
    },
    "nbformat": 4,
    "nbformat_minor": 2
}
