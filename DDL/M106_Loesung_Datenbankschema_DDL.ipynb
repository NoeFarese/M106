{
    "cells": [
        {
            "attachments": {},
            "cell_type": "markdown",
            "metadata": {
                "azdata_cell_guid": "465e6588-382c-4b85-bc8f-6dc760925f7c"
            },
            "source": [
                "# **Übungsaufgaben DDL**\n",
                "\n",
                "Dieser Übungsblock enthält Aufgaben zum Thema \"Datenbankschema (DDL)\". Löse die Aufgaben am besten in der gestellten Reihenfolge."
            ]
        },
        {
            "attachments": {},
            "cell_type": "markdown",
            "metadata": {
                "azdata_cell_guid": "f61bb919-d67a-4077-97a9-39aa466753ae"
            },
            "source": [
                "## Grundlagen\n",
                "\n",
                "Mache dir über folgende Aussagen Gedanken und bespreche sie anschliessend mit den anderen Kursteilnehmern.\n",
                "\n",
                "**Aussage 1**: Ein geeigneter Datentyp für die Hausnummer ist int.\n",
                "\n",
                "**Aussage 2:** Ein geeigneter Typ für die Postleitzahl ist int.\n",
                "\n",
                "**Aussage 3:** Für kaufmännische Daten ist money ein wichtiger Datentyp.\n",
                "\n",
                "**Aussage 4:** Money ist ein Standard-Datentyp und existiert auch auf anderen DBMS.\n",
                "\n",
                "**Aussage 5:** VARCHAR ist platzsparender als CHAR"
            ]
        },
        {
            "attachments": {},
            "cell_type": "markdown",
            "metadata": {
                "azdata_cell_guid": "6a96fbce-813c-42e8-9455-ec1d78498aaf"
            },
            "source": [
                "**Antwort 1:** Grundsätzlich nicht, es gibt nur schon in der Schweiz Hausnummern, welche Buchstaben verwenden (bsp. 3a)\n",
                "\n",
                "**Antwort 2:** Wenn nur Postleitzahlen aus Ländern wie Deutschland, Schweiz oder Österreich verwendet werden, funktioniert dies. Sobald Länder wie Grossbritannien im System verwendet werden, muss der Typ alphanummerisch sein, da z.B. Grossbritannien auch Buchstaben in deren Postleitzahlen verwendet.\n",
                "\n",
                "**Aussage 3:** Stimmt, der Microsoft SQL-Server bietet hierfür extra einen Datentyp an, welcher für Finanzdaten verwendet werden kann. Bei anderen DBMS muss in der Regel auf Float zurückgegriffen werden.\n",
                "\n",
                "**Aussage 4:** Money ist ein Microsoft-Typ. Andere Systeme wie MariaDB oder PostgreSQL bieten diesen Datentyp nicht an.\n",
                "\n",
                "**Aussage 5:** Kommt auf den Inhalt des Feldes an. Character reserviert genau die Anzahl Felder im Speicher, welche angegeben wurden. Wenn ich nur Werte ablege, welche genau dieser Grösse entsprechen, fahre ich besser als wenn ich VARCHAR verwenden würde. Wenn ich jedoch Werte speichern muss, welche unterschiedlich gross sind, fahre ich mit VARCHAR besser, da die grösse dynamisch vergeben wird."
            ]
        },
        {
            "attachments": {},
            "cell_type": "markdown",
            "metadata": {
                "azdata_cell_guid": "e3cdb4db-4d44-4c26-abc5-7218fef51a73"
            },
            "source": [
                "## CREATE\n",
                "\n",
                "Diese Aufgaben kannst du nach Behandlung des CREATE-Blocks lösen."
            ]
        },
        {
            "attachments": {},
            "cell_type": "markdown",
            "metadata": {
                "azdata_cell_guid": "4f4a5caa-c2fb-4c91-ad42-bc9d820cec35"
            },
            "source": [
                "**1.1** Erstelle eine neue Datenbank mit dem Namen _Adressdatenbank_."
            ]
        },
        {
            "cell_type": "code",
            "execution_count": null,
            "metadata": {
                "azdata_cell_guid": "2c9981bc-f063-4be6-af65-6e370478a1cb",
                "vscode": {
                    "languageId": "sql"
                }
            },
            "outputs": [],
            "source": [
                "-- Falls nötig, zuerst DB entfernen\n",
                "DROP DATABASE IF EXISTS Adressdatenbank;\n",
                "CREATE DATABASE Adressdatenbank;"
            ]
        },
        {
            "attachments": {},
            "cell_type": "markdown",
            "metadata": {
                "azdata_cell_guid": "8d382797-1054-437f-ab4a-6fc02918d77d"
            },
            "source": [
                "**1.2** Erstelle eine neue Tabelle _Person_ mit den folgenden Feldern: _id, anrede, vorname, nachname, strasse, hausnummer, plz, ort, land_. Wähle dabei geeignete Datentypen aus."
            ]
        },
        {
            "cell_type": "code",
            "execution_count": null,
            "metadata": {
                "azdata_cell_guid": "cb444221-890b-4a74-b5f1-7b52c4256812",
                "vscode": {
                    "languageId": "sql"
                }
            },
            "outputs": [],
            "source": [
                "-- Zuerst muss das Schema gewechselt werden\n",
                "USE Adressdatenbank;\n",
                "CREATE TABLE Person (\n",
                "    id INT NOT NULL,\n",
                "    anrede CHAR(4) NOT NULL,\n",
                "    vorname VARCHAR(50) NOT NULL,\n",
                "    nachname VARCHAR(50) NOT NULL,\n",
                "    strasse VARCHAR(150) NOT NULL,\n",
                "    hausnummer VARCHAR(5),\n",
                "    plz VARCHAR(10) NOT NULL,\n",
                "    ort VARCHAR(50) NOT NULL,\n",
                "    land VARCHAR(50) NOT NULL\n",
                ")"
            ]
        },
        {
            "cell_type": "code",
            "execution_count": null,
            "metadata": {
                "azdata_cell_guid": "ade8c92c-0135-456a-9ad7-0ee8ac9ca0be",
                "vscode": {
                    "languageId": "sql"
                }
            },
            "outputs": [],
            "source": [
                "-- Anschliessende Kontrolle\n",
                "exec sp_columns Person;"
            ]
        },
        {
            "attachments": {},
            "cell_type": "markdown",
            "metadata": {
                "azdata_cell_guid": "0bf697ea-f30b-46b8-b518-bcbf7eeda43d"
            },
            "source": [
                "**1.3** Erstelle eine neue Tabelle _Telefon_ mit den folgenden Feldern: id, personId, typ, nummer. Wähle auch hier geeignete Datentypen aus."
            ]
        },
        {
            "cell_type": "code",
            "execution_count": null,
            "metadata": {
                "azdata_cell_guid": "6939d3e6-dae3-445a-bbe7-8bd66affb9be",
                "vscode": {
                    "languageId": "sql"
                }
            },
            "outputs": [],
            "source": [
                "CREATE TABLE Telefon (\n",
                "    id INT NOT NULL,\n",
                "    personId INT NOT NULL,\n",
                "    typ VARCHAR(10) NOT NULL,\n",
                "    nummer VARCHAR(50) NOT NULL\n",
                ");"
            ]
        },
        {
            "cell_type": "code",
            "execution_count": null,
            "metadata": {
                "azdata_cell_guid": "c9c07a46-7325-49ae-858b-472751a7af00",
                "vscode": {
                    "languageId": "sql"
                }
            },
            "outputs": [],
            "source": [
                "-- Anschliessende Kontrolle\n",
                "exec sp_columns Telefon;"
            ]
        },
        {
            "attachments": {},
            "cell_type": "markdown",
            "metadata": {
                "azdata_cell_guid": "4f12d52f-0550-4e44-b615-14377a0a45b7"
            },
            "source": [
                "**1.4** Erstelle eine neue Tabelle _Notizen_ mit den folgenden Feldern: _id, personId, notiz_. Wähle hier geeignete Datentypen aus."
            ]
        },
        {
            "cell_type": "code",
            "execution_count": null,
            "metadata": {
                "azdata_cell_guid": "412644b8-a3ba-4bea-9526-09b1949aaa5a",
                "tags": [],
                "vscode": {
                    "languageId": "sql"
                }
            },
            "outputs": [],
            "source": [
                "CREATE TABLE Notizen (\n",
                "    id INT NOT NULL,\n",
                "    personId INT NOT NULL,\n",
                "    notiz TEXT\n",
                ");"
            ]
        },
        {
            "cell_type": "code",
            "execution_count": null,
            "metadata": {
                "azdata_cell_guid": "183e886b-6307-421d-bdbe-4f5cd1204e0a",
                "vscode": {
                    "languageId": "sql"
                }
            },
            "outputs": [],
            "source": [
                "-- Anschliessende Kontrolle\n",
                "exec sp_columns Notizen;"
            ]
        },
        {
            "attachments": {},
            "cell_type": "markdown",
            "metadata": {
                "azdata_cell_guid": "89facc2b-e784-47b9-a73a-e3e6584b9e2f"
            },
            "source": [
                "## ALTER\n",
                "\n",
                "Führe diese Aufgaben nach Behandlung des ALTER-Blocks aus."
            ]
        },
        {
            "attachments": {},
            "cell_type": "markdown",
            "metadata": {
                "azdata_cell_guid": "d6317bec-7758-421b-b1a5-23747b8c67cf"
            },
            "source": [
                "**2.1** Verändere die Tabelle _Person_, füge eine neue Spalte für einen zweiten Vornamen ein. Wähle dazu einen passenden Datentyp und einen entsprechenden Spaltennamen."
            ]
        },
        {
            "cell_type": "code",
            "execution_count": null,
            "metadata": {
                "azdata_cell_guid": "ab2dedf9-b048-4825-8b6e-c6befac65ea8",
                "vscode": {
                    "languageId": "sql"
                }
            },
            "outputs": [],
            "source": [
                "ALTER TABLE Person ADD zweiter_vorname VARCHAR(50);"
            ]
        },
        {
            "cell_type": "code",
            "execution_count": null,
            "metadata": {
                "azdata_cell_guid": "428010b4-df48-4333-83c9-f97a92de60cb",
                "vscode": {
                    "languageId": "sql"
                }
            },
            "outputs": [],
            "source": [
                "-- Anschliessende Kontrolle\n",
                "exec sp_columns Person;"
            ]
        },
        {
            "attachments": {},
            "cell_type": "markdown",
            "metadata": {
                "azdata_cell_guid": "24648a12-7ecd-4a43-9216-44ee4d635109"
            },
            "source": [
                "**2.2** Verändere die Tabelle _Person_, füge eine neue Spalte für ein _Geburtsdatum_ ein. Wähle hierzu einen passenden Datentyp."
            ]
        },
        {
            "cell_type": "code",
            "execution_count": null,
            "metadata": {
                "azdata_cell_guid": "58f36f43-6bd5-445c-8b6c-b81a70c881f8",
                "vscode": {
                    "languageId": "sql"
                }
            },
            "outputs": [],
            "source": [
                "ALTER TABLE Person ADD geburtsdatum DATE;"
            ]
        },
        {
            "cell_type": "code",
            "execution_count": null,
            "metadata": {
                "azdata_cell_guid": "59f09611-445d-4539-8811-37c11087da57",
                "vscode": {
                    "languageId": "sql"
                }
            },
            "outputs": [],
            "source": [
                "-- Anschliessende Kontrolle\n",
                "exec sp_columns Person;"
            ]
        },
        {
            "attachments": {},
            "cell_type": "markdown",
            "metadata": {
                "azdata_cell_guid": "c6bed2e6-87b5-43a6-8e22-20e32d992c4b"
            },
            "source": [
                "**2.3** Verändere die Tabelle _Telefon_, verändere den Typ der Spalte _Typ_. Neu soll dieses Feld nicht mehr frei änderbar sein, sondern du sollst zwischen _P_, _N_ oder _G_ aussuchen müssen."
            ]
        },
        {
            "cell_type": "code",
            "execution_count": null,
            "metadata": {
                "azdata_cell_guid": "d077b923-8cb3-423d-be53-b157b3f8b521",
                "vscode": {
                    "languageId": "sql"
                }
            },
            "outputs": [],
            "source": [
                "-- Hier muss der Datentyp komplett verändert werden. Das heisst, die Kolonne muss entfernt und neu hinzugefügt werden.\n",
                "-- Der Check wird nicht mittels MODIFY unterstützt.\n",
                "-- Ein geeigneter Datentyp ist hier ENUM. Microsoft unterstützt diesen Datentyp, aber nicht gemäss Standart.\n",
                "-- Der Datentyp kann mit einem Check erstellt werden.\n",
                "ALTER TABLE Telefon DROP COLUMN typ;\n",
                "ALTER TABLE Telefon ADD typ CHAR(1) NOT NULL CHECK (typ IN ('P', 'N', 'G'))"
            ]
        },
        {
            "cell_type": "code",
            "execution_count": null,
            "metadata": {
                "azdata_cell_guid": "2e7af165-1189-46c0-90a7-c2fe84f0c64b",
                "vscode": {
                    "languageId": "sql"
                }
            },
            "outputs": [],
            "source": [
                "-- Anschliessende Kontrolle\n",
                "exec sp_columns Telefon;"
            ]
        },
        {
            "attachments": {},
            "cell_type": "markdown",
            "metadata": {
                "azdata_cell_guid": "661782e0-6f8d-4a2c-8435-4f8fddef1a6b"
            },
            "source": [
                "**2.4** Erstelle eine Spalte _Notiz_ auf der Person. Wähle den passenden Datentyp."
            ]
        },
        {
            "cell_type": "code",
            "execution_count": null,
            "metadata": {
                "azdata_cell_guid": "1144ef34-0ea9-413f-9d0b-117ee9dbd2c2",
                "vscode": {
                    "languageId": "sql"
                }
            },
            "outputs": [],
            "source": [
                "ALTER TABLE Person ADD notiz TEXT;"
            ]
        },
        {
            "cell_type": "code",
            "execution_count": null,
            "metadata": {
                "azdata_cell_guid": "2f2f7a19-97ff-4329-9018-738c30ae1de6",
                "vscode": {
                    "languageId": "sql"
                }
            },
            "outputs": [],
            "source": [
                "-- Anschliessende Kontrolle\n",
                "exec sp_columns Person;"
            ]
        },
        {
            "attachments": {},
            "cell_type": "markdown",
            "metadata": {
                "azdata_cell_guid": "99705faa-21fd-466c-a96d-1d5a8a93aca0"
            },
            "source": [
                "**2.5** Lösche die Spalte _notiz_ aus der Tabelle _Notizen_."
            ]
        },
        {
            "cell_type": "code",
            "execution_count": null,
            "metadata": {
                "azdata_cell_guid": "13f9ffdf-4956-480a-ba05-0cf714b295b3",
                "vscode": {
                    "languageId": "sql"
                }
            },
            "outputs": [],
            "source": [
                "ALTER TABLE Notizen DROP COLUMN notiz;"
            ]
        },
        {
            "cell_type": "code",
            "execution_count": null,
            "metadata": {
                "azdata_cell_guid": "4d4dcf15-bc5f-408a-bcf9-a934828ef62f",
                "vscode": {
                    "languageId": "sql"
                }
            },
            "outputs": [],
            "source": [
                "-- Anschliessende Kontrolle\n",
                "exec sp_columns Notizen;"
            ]
        },
        {
            "attachments": {},
            "cell_type": "markdown",
            "metadata": {
                "azdata_cell_guid": "cfeb3fe3-c82b-44e2-993a-c63ba91f20e2"
            },
            "source": [
                "## DROP\n",
                "\n",
                "Führe diese Aufgaben nach Behandlung des DROP-Blocks aus."
            ]
        },
        {
            "attachments": {},
            "cell_type": "markdown",
            "metadata": {
                "azdata_cell_guid": "673eb760-c9ac-440e-bc17-4cffc042cdf7"
            },
            "source": [
                "**3.1** Lösche die Tabelle _Notizen_."
            ]
        },
        {
            "cell_type": "code",
            "execution_count": null,
            "metadata": {
                "azdata_cell_guid": "04c4528f-508d-437c-8e77-fbb18f540cbd",
                "vscode": {
                    "languageId": "sql"
                }
            },
            "outputs": [],
            "source": [
                "DROP TABLE Notizen;"
            ]
        },
        {
            "cell_type": "code",
            "execution_count": null,
            "metadata": {
                "azdata_cell_guid": "d83cbf10-bfd0-42ed-8c29-a92ace2aec61",
                "vscode": {
                    "languageId": "sql"
                }
            },
            "outputs": [],
            "source": [
                "-- Anschliessende Kontrolle\n",
                "SELECT * FROM INFORMATION_SCHEMA.TABLES;"
            ]
        },
        {
            "attachments": {},
            "cell_type": "markdown",
            "metadata": {
                "azdata_cell_guid": "c8d210d4-a1c5-4c21-a649-3e136258115f"
            },
            "source": [
                "## RENAME\n",
                "\n",
                "Führe diese Aufgaben nach der Behandlung des RENAME-Blocks aus."
            ]
        },
        {
            "attachments": {},
            "cell_type": "markdown",
            "metadata": {
                "azdata_cell_guid": "9575fee3-096a-4b57-9c74-e6965f13b345"
            },
            "source": [
                "**4.1** Benenne die Tabelle _Telefon_ in _Phone_ um."
            ]
        },
        {
            "cell_type": "code",
            "execution_count": null,
            "metadata": {
                "azdata_cell_guid": "880bf802-8bee-4a0e-972e-da430e555aed",
                "vscode": {
                    "languageId": "sql"
                }
            },
            "outputs": [],
            "source": [
                "exec sp_rename 'Telefon', 'Phone';"
            ]
        },
        {
            "cell_type": "code",
            "execution_count": null,
            "metadata": {
                "azdata_cell_guid": "890e2036-6e17-4d3b-b7ce-23fa902953d4",
                "vscode": {
                    "languageId": "sql"
                }
            },
            "outputs": [],
            "source": [
                "-- Anschliessende Kontrolle\n",
                "SELECT * FROM INFORMATION_SCHEMA.TABLES;"
            ]
        },
        {
            "attachments": {},
            "cell_type": "markdown",
            "metadata": {
                "azdata_cell_guid": "e694df87-e58d-47ac-88fe-e83cd2658430"
            },
            "source": [
                "## Schlüsselfelder\n",
                "\n",
                "Führe diese Aufgaben nach Behandlung der Schlüsselfelder aus.\n",
                "\n",
                "**Hinweis**: Diese Aufgaben beziehen sich auf die Mustertabelle des Kapitels \"CREATE\" und den nachfolgenden Änderungen."
            ]
        },
        {
            "attachments": {},
            "cell_type": "markdown",
            "metadata": {
                "azdata_cell_guid": "d549e3bb-89f1-4205-a6ef-b38218a4f648"
            },
            "source": [
                "**5.1** Erstelle einen Primärschlüssel für das Feld \"id\" in der Tabelle \"Person\". Der Wert soll automatisch inkrementieren."
            ]
        },
        {
            "cell_type": "code",
            "execution_count": null,
            "metadata": {
                "azdata_cell_guid": "7aa166b6-9d1c-4b33-a0ba-a0ba9bd8f750",
                "tags": [],
                "vscode": {
                    "languageId": "sql"
                }
            },
            "outputs": [],
            "source": [
                "-- Hint: Da die Anforderung für ein Identity-Feld besteht, muss die vorhandene Spalte entfernt werden.\n",
                "ALTER TABLE Person DROP COLUMN id;\n",
                "ALTER TABLE Person ADD id INT NOT NULL IDENTITY(1,1) PRIMARY KEY;"
            ]
        },
        {
            "cell_type": "code",
            "execution_count": null,
            "metadata": {
                "azdata_cell_guid": "55841c7f-9eff-4117-9fe9-fd74c293f1a5",
                "tags": [],
                "vscode": {
                    "languageId": "sql"
                }
            },
            "outputs": [],
            "source": [
                "-- Anschliessende Kontrolle\n",
                "exec sp_columns Person;"
            ]
        },
        {
            "attachments": {},
            "cell_type": "markdown",
            "metadata": {
                "azdata_cell_guid": "382fdde4-254b-4721-bac7-77208df17673"
            },
            "source": [
                "**5.2** Erstelle einen Primärschlüssel für das Feld \"id\" in der Tabelle \"Phone\". Der Wert soll nicht inkementieren."
            ]
        },
        {
            "cell_type": "code",
            "execution_count": null,
            "metadata": {
                "azdata_cell_guid": "09810f77-26b0-4373-89bf-642bc24ccb1f",
                "vscode": {
                    "languageId": "sql"
                }
            },
            "outputs": [],
            "source": [
                "ALTER TABLE Phone ADD CONSTRAINT pk_phone_id PRIMARY KEY CLUSTERED(id);"
            ]
        },
        {
            "cell_type": "code",
            "execution_count": null,
            "metadata": {
                "azdata_cell_guid": "e336f420-5a86-43c1-b059-99184b1192db",
                "vscode": {
                    "languageId": "sql"
                }
            },
            "outputs": [],
            "source": [
                "-- Anschliessende Kontrolle\n",
                "SELECT * FROM INFORMATION_SCHEMA.TABLE_CONSTRAINTS WHERE TABLE_NAME='Phone';"
            ]
        },
        {
            "attachments": {},
            "cell_type": "markdown",
            "metadata": {
                "azdata_cell_guid": "79b0eb02-09dc-408c-9c5a-ad1c8a23d14a"
            },
            "source": [
                "**5.3** Erstelle einen Fremdschlüssel für das Feld \"personId\" in der Tabelle \"Phone\". Der Wert soll auf die Tabelle \"Person\" und das Feld \"id\" referenzieren."
            ]
        },
        {
            "cell_type": "code",
            "execution_count": null,
            "metadata": {
                "azdata_cell_guid": "63a73fd1-89e6-4fee-8be8-45ac4706fec1",
                "vscode": {
                    "languageId": "sql"
                }
            },
            "outputs": [],
            "source": [
                "ALTER TABLE Phone ADD CONSTRAINT fk_person_id FOREIGN KEY (personId) REFERENCES Person(id);"
            ]
        },
        {
            "cell_type": "code",
            "execution_count": null,
            "metadata": {
                "azdata_cell_guid": "0f2fb5d6-cb11-410b-8135-ac1dfe8d1bcf",
                "vscode": {
                    "languageId": "sql"
                }
            },
            "outputs": [],
            "source": [
                "-- Anschliessende Kontrolle\n",
                "SELECT * FROM INFORMATION_SCHEMA.TABLE_CONSTRAINTS WHERE TABLE_NAME IN('Phone', 'Person');"
            ]
        }
    ],
    "metadata": {
        "kernelspec": {
            "display_name": "Python 3",
            "language": "python",
            "name": "python3"
        },
        "language_info": {
            "name": "python",
            "version": "3.9.6 (default, Aug  5 2022, 15:21:02) \n[Clang 14.0.0 (clang-1400.0.29.102)]"
        },
        "vscode": {
            "interpreter": {
                "hash": "31f2aee4e71d21fbe5cf8b01ff0e069b9275f58929596ceb00d14d90e3e16cd6"
            }
        }
    },
    "nbformat": 4,
    "nbformat_minor": 2
}
