{
    "cells": [
        {
            "attachments": {},
            "cell_type": "markdown",
            "metadata": {
                "azdata_cell_guid": "465e6588-382c-4b85-bc8f-6dc760925f7c"
            },
            "source": [
                "# **Übungsaufgaben DDL**\n",
                "\n",
                "Dieser Übungsblock enthält Aufgaben zum Thema \"Datenbankschema (DDL)\". Löse die Aufgaben am besten in der gestellten Reihenfolge."
            ]
        },
        {
            "attachments": {},
            "cell_type": "markdown",
            "metadata": {
                "azdata_cell_guid": "f61bb919-d67a-4077-97a9-39aa466753ae"
            },
            "source": [
                "## Grundlagen\n",
                "\n",
                "Mache dir über folgende Aussagen Gedanken und bespreche sie anschliessend mit den anderen Kursteilnehmern.\n",
                "\n",
                "**Aussage 1**: Ein geeigneter Datentyp für die Hausnummer ist int.\n",
                "\n",
                "**Aussage 2:** Ein geeigneter Typ für die Postleitzahl ist int.\n",
                "\n",
                "**Aussage 3:** Für kaufmännische Daten ist money ein wichtiger Datentyp.\n",
                "\n",
                "**Aussage 4:** Money ist ein Standard-Datentyp und existiert auch auf anderen DBMS.\n",
                "\n",
                "**Aussage 5:** VARCHAR ist platzsparender als CHAR"
            ]
        },
        {
            "attachments": {},
            "cell_type": "markdown",
            "metadata": {
                "azdata_cell_guid": "e3cdb4db-4d44-4c26-abc5-7218fef51a73"
            },
            "source": [
                "## CREATE\n",
                "\n",
                "Diese Aufgaben kannst du nach Behandlung des CREATE-Blocks lösen."
            ]
        },
        {
            "attachments": {},
            "cell_type": "markdown",
            "metadata": {
                "azdata_cell_guid": "4f4a5caa-c2fb-4c91-ad42-bc9d820cec35"
            },
            "source": [
                "**1.1** Erstelle eine neue Datenbank mit dem Namen _Adressdatenbank_."
            ]
        },
        {
            "cell_type": "code",
            "execution_count": null,
            "metadata": {
                "azdata_cell_guid": "2c9981bc-f063-4be6-af65-6e370478a1cb",
                "language": "sql",
                "vscode": {
                    "languageId": "sql"
                }
            },
            "outputs": [],
            "source": [
                "CREATE DATABASE Adressdatenbank;\n",
                "USE Adressdatenbank;\n",
                "GO"
            ]
        },
        {
            "attachments": {},
            "cell_type": "markdown",
            "metadata": {
                "azdata_cell_guid": "8d382797-1054-437f-ab4a-6fc02918d77d"
            },
            "source": [
                "**1.2** Erstelle eine neue Tabelle _Person_ mit den folgenden Feldern: _id, anrede, vorname, nachname, strasse, hausnummer, plz, ort, land_. Wähle dabei geeignete Datentypen aus."
            ]
        },
        {
            "cell_type": "code",
            "execution_count": null,
            "metadata": {
                "azdata_cell_guid": "cb444221-890b-4a74-b5f1-7b52c4256812",
                "language": "sql",
                "vscode": {
                    "languageId": "sql"
                }
            },
            "outputs": [],
            "source": [
                "CREATE TABLE Person (\n",
                "    id INT NOT NULL IDENTITY (1,1) PRIMARY KEY,\n",
                "    anrede varchar (30) NOT NULL,\n",
                "    vorname VARCHAR(30) NOT NULL,\n",
                "    nachname VARCHAR(30) NOT NULL,\n",
                "    strasse VARCHAR (30) NOT NULL,\n",
                "    hausnummer VARCHAR(30) NOT NULL,\n",
                "    plz SMALLINT NOT NULL,\n",
                "    ort INT (30) NOT NULL,\n",
                "    land INT (30) NOT NULL\n",
                ");"
            ]
        },
        {
            "attachments": {},
            "cell_type": "markdown",
            "metadata": {
                "azdata_cell_guid": "0bf697ea-f30b-46b8-b518-bcbf7eeda43d"
            },
            "source": [
                "**1.3** Erstelle eine neue Tabelle _Telefon_ mit den folgenden Feldern: id, personId, typ, nummer. Wähle auch hier geeignete Datentypen aus."
            ]
        },
        {
            "cell_type": "code",
            "execution_count": null,
            "metadata": {
                "azdata_cell_guid": "6939d3e6-dae3-445a-bbe7-8bd66affb9be",
                "language": "sql",
                "vscode": {
                    "languageId": "sql"
                }
            },
            "outputs": [],
            "source": [
                "CREATE TABLE Telefon (\n",
                "    id INT NOT NULL IDENTITY(1,1) PRIMARY KEY,\n",
                "    personId INT NOT NULL IDENTITY(1,1),\n",
                "    typ VARCHAR(30) NOT NULL,\n",
                "    nummer VARCHAR(30) NOT NULL\n",
                ");"
            ]
        },
        {
            "attachments": {},
            "cell_type": "markdown",
            "metadata": {
                "azdata_cell_guid": "4f12d52f-0550-4e44-b615-14377a0a45b7"
            },
            "source": [
                "**1.4** Erstelle eine neue Tabelle _Notizen_ mit den folgenden Feldern: _id, personId, notiz_. Wähle hier geeignete Datentypen aus."
            ]
        },
        {
            "cell_type": "code",
            "execution_count": null,
            "metadata": {
                "azdata_cell_guid": "412644b8-a3ba-4bea-9526-09b1949aaa5a",
                "language": "sql",
                "tags": [],
                "vscode": {
                    "languageId": "sql"
                }
            },
            "outputs": [],
            "source": [
                "CREATE TABLE Notizen (\n",
                "    id INT NOT NULL IDENTITY (1,1) PRIMARY KEY,\n",
                "    personId INT NOT NULL IDENTITY(1,1),\n",
                "    notiz TEXT\n",
                ");"
            ]
        },
        {
            "attachments": {},
            "cell_type": "markdown",
            "metadata": {
                "azdata_cell_guid": "89facc2b-e784-47b9-a73a-e3e6584b9e2f"
            },
            "source": [
                "## ALTER\n",
                "\n",
                "Führe diese Aufgaben nach Behandlung des ALTER-Blocks aus."
            ]
        },
        {
            "attachments": {},
            "cell_type": "markdown",
            "metadata": {
                "azdata_cell_guid": "d6317bec-7758-421b-b1a5-23747b8c67cf"
            },
            "source": [
                "**2.1** Verändere die Tabelle _Person_, füge eine neue Spalte für einen zweiten Vornamen ein. Wähle dazu einen passenden Datentyp und einen entsprechenden Spaltennamen."
            ]
        },
        {
            "cell_type": "code",
            "execution_count": null,
            "metadata": {
                "azdata_cell_guid": "428010b4-df48-4333-83c9-f97a92de60cb",
                "language": "sql",
                "vscode": {
                    "languageId": "sql"
                }
            },
            "outputs": [],
            "source": [
                "ALTER TABLE Person ADD zweiter_vorname VARCHAR(30);"
            ]
        },
        {
            "attachments": {},
            "cell_type": "markdown",
            "metadata": {
                "azdata_cell_guid": "24648a12-7ecd-4a43-9216-44ee4d635109"
            },
            "source": [
                "**2.2** Verändere die Tabelle _Person_, füge eine neue Spalte für ein _Geburtsdatum_ ein. Wähle hierzu einen passenden Datentyp."
            ]
        },
        {
            "cell_type": "code",
            "execution_count": null,
            "metadata": {
                "azdata_cell_guid": "58f36f43-6bd5-445c-8b6c-b81a70c881f8",
                "language": "sql",
                "vscode": {
                    "languageId": "sql"
                }
            },
            "outputs": [],
            "source": [
                "ALTER TABLE Person ADD geburtsdatum DATE;"
            ]
        },
        {
            "attachments": {},
            "cell_type": "markdown",
            "metadata": {
                "azdata_cell_guid": "c6bed2e6-87b5-43a6-8e22-20e32d992c4b"
            },
            "source": [
                "**2.3** Verändere die Tabelle _Telefon_, verändere den Typ der Spalte _Typ_. Neu soll dieses Feld nicht mehr frei änderbar sein, sondern du sollst zwischen _P_, _N_ oder _G_ aussuchen müssen."
            ]
        },
        {
            "cell_type": "code",
            "execution_count": null,
            "metadata": {
                "azdata_cell_guid": "d077b923-8cb3-423d-be53-b157b3f8b521",
                "language": "sql",
                "vscode": {
                    "languageId": "sql"
                }
            },
            "outputs": [],
            "source": [
                "ALTER TABLE Telefon ALTER COLUMN typ CHAR (P,N,G);"
            ]
        },
        {
            "attachments": {},
            "cell_type": "markdown",
            "metadata": {
                "azdata_cell_guid": "661782e0-6f8d-4a2c-8435-4f8fddef1a6b"
            },
            "source": [
                "**2.4** Erstelle eine Spalte _Notiz_ auf der Person. Wähle den passenden Datentyp."
            ]
        },
        {
            "cell_type": "code",
            "execution_count": null,
            "metadata": {
                "azdata_cell_guid": "1144ef34-0ea9-413f-9d0b-117ee9dbd2c2",
                "language": "sql",
                "vscode": {
                    "languageId": "sql"
                }
            },
            "outputs": [],
            "source": [
                "ALTER TABLE Person ADD notiz VARCHAR(30);"
            ]
        },
        {
            "attachments": {},
            "cell_type": "markdown",
            "metadata": {
                "azdata_cell_guid": "99705faa-21fd-466c-a96d-1d5a8a93aca0"
            },
            "source": [
                "**2.5** Lösche die Spalte _notiz_ aus der Tabelle _Notizen_."
            ]
        },
        {
            "cell_type": "code",
            "execution_count": null,
            "metadata": {
                "azdata_cell_guid": "13f9ffdf-4956-480a-ba05-0cf714b295b3",
                "language": "sql",
                "vscode": {
                    "languageId": "sql"
                }
            },
            "outputs": [],
            "source": [
                "ALTER TABLE Notizen DROP COLUMN notiz;"
            ]
        },
        {
            "attachments": {},
            "cell_type": "markdown",
            "metadata": {
                "azdata_cell_guid": "cfeb3fe3-c82b-44e2-993a-c63ba91f20e2"
            },
            "source": [
                "## DROP\n",
                "\n",
                "Führe diese Aufgaben nach Behandlung des DROP-Blocks aus."
            ]
        },
        {
            "attachments": {},
            "cell_type": "markdown",
            "metadata": {
                "azdata_cell_guid": "673eb760-c9ac-440e-bc17-4cffc042cdf7"
            },
            "source": [
                "**3.1** Lösche die Tabelle _Notizen_."
            ]
        },
        {
            "cell_type": "code",
            "execution_count": null,
            "metadata": {
                "azdata_cell_guid": "04c4528f-508d-437c-8e77-fbb18f540cbd",
                "language": "sql",
                "vscode": {
                    "languageId": "sql"
                }
            },
            "outputs": [],
            "source": [
                "DROP TABLE Notizen;"
            ]
        },
        {
            "attachments": {},
            "cell_type": "markdown",
            "metadata": {
                "azdata_cell_guid": "c8d210d4-a1c5-4c21-a649-3e136258115f"
            },
            "source": [
                "## RENAME\n",
                "\n",
                "Führe diese Aufgaben nach der Behandlung des RENAME-Blocks aus."
            ]
        },
        {
            "attachments": {},
            "cell_type": "markdown",
            "metadata": {
                "azdata_cell_guid": "9575fee3-096a-4b57-9c74-e6965f13b345"
            },
            "source": [
                "**4.1** Benenne die Tabelle _Telefon_ in _Phone_ um."
            ]
        },
        {
            "cell_type": "code",
            "execution_count": null,
            "metadata": {
                "azdata_cell_guid": "880bf802-8bee-4a0e-972e-da430e555aed",
                "language": "sql",
                "vscode": {
                    "languageId": "sql"
                }
            },
            "outputs": [],
            "source": [
                "exec sp_rename 'Telefon', 'Phone';"
            ]
        },
        {
            "attachments": {},
            "cell_type": "markdown",
            "metadata": {
                "azdata_cell_guid": "e694df87-e58d-47ac-88fe-e83cd2658430"
            },
            "source": [
                "## Schlüsselfelder\n",
                "\n",
                "Führe diese Aufgaben nach Behandlung der Schlüsselfelder aus.\n",
                "\n",
                "**Hinweis**: Diese Aufgaben beziehen sich auf die Mustertabelle des Kapitels \"CREATE\" und den nachfolgenden Änderungen."
            ]
        },
        {
            "attachments": {},
            "cell_type": "markdown",
            "metadata": {
                "azdata_cell_guid": "d549e3bb-89f1-4205-a6ef-b38218a4f648"
            },
            "source": [
                "**5.1** Erstelle einen Primärschlüssel für das Feld \"id\" in der Tabelle \"Person\". Der Wert soll automatisch inkrementieren."
            ]
        },
        {
            "cell_type": "code",
            "execution_count": null,
            "metadata": {
                "azdata_cell_guid": "7aa166b6-9d1c-4b33-a0ba-a0ba9bd8f750",
                "language": "sql",
                "tags": [],
                "vscode": {
                    "languageId": "sql"
                }
            },
            "outputs": [],
            "source": [
                "ALTER TABLE Person ADD PRIMARY KEY (id) IDENTITY(1,1);"
            ]
        },
        {
            "attachments": {},
            "cell_type": "markdown",
            "metadata": {
                "azdata_cell_guid": "382fdde4-254b-4721-bac7-77208df17673"
            },
            "source": [
                "**5.2** Erstelle einen Primärschlüssel für das Feld \"id\" in der Tabelle \"Phone\". Der Wert soll nicht inkementieren."
            ]
        },
        {
            "cell_type": "code",
            "execution_count": null,
            "metadata": {
                "azdata_cell_guid": "09810f77-26b0-4373-89bf-642bc24ccb1f",
                "language": "sql",
                "vscode": {
                    "languageId": "sql"
                }
            },
            "outputs": [],
            "source": [
                "ALTER TABLE Phone ADD PRIMARY KEY (id);"
            ]
        },
        {
            "attachments": {},
            "cell_type": "markdown",
            "metadata": {
                "azdata_cell_guid": "79b0eb02-09dc-408c-9c5a-ad1c8a23d14a"
            },
            "source": [
                "**5.3** Erstelle einen Fremdschlüssel für das Feld \"personId\" in der Tabelle \"Phone\". Der Wert soll auf die Tabelle \"Person\" und das Feld \"id\" referenzieren."
            ]
        },
        {
            "cell_type": "code",
            "execution_count": null,
            "metadata": {
                "azdata_cell_guid": "63a73fd1-89e6-4fee-8be8-45ac4706fec1",
                "language": "sql",
                "vscode": {
                    "languageId": "sql"
                }
            },
            "outputs": [],
            "source": [
                "ALTER TABLE Phone ADD CONSTRAINT fk_personId FOREIGN KEY personId REFERENCES Person (personId);"
            ]
        }
    ],
    "metadata": {
        "kernelspec": {
            "display_name": "Python 3",
            "language": "python",
            "name": "python3"
        },
        "language_info": {
            "name": "python",
            "version": "3.9.6 (default, Aug  5 2022, 15:21:02) \n[Clang 14.0.0 (clang-1400.0.29.102)]"
        },
        "vscode": {
            "interpreter": {
                "hash": "31f2aee4e71d21fbe5cf8b01ff0e069b9275f58929596ceb00d14d90e3e16cd6"
            }
        }
    },
    "nbformat": 4,
    "nbformat_minor": 2
}
