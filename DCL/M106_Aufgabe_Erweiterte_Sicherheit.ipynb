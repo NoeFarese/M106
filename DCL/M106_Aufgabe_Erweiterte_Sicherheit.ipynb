{
    "cells": [
        {
            "attachments": {},
            "cell_type": "markdown",
            "metadata": {
                "azdata_cell_guid": "1f37b712-2f0a-41c2-813f-8053e328c3c6",
                "extensions": {
                    "azuredatastudio": {
                        "views": []
                    }
                }
            },
            "source": [
                "Maskiere die Emailadressen in der Spalte _LogonName_ der Tabelle _People_ mit der geeigneten Maskierungsfunktion."
            ]
        },
        {
            "cell_type": "code",
            "execution_count": null,
            "metadata": {
                "azdata_cell_guid": "0cff736d-ac76-43e8-982d-dfb02d96c728",
                "extensions": {
                    "azuredatastudio": {
                        "views": []
                    }
                },
                "tags": [],
                "vscode": {
                    "languageId": "sql"
                }
            },
            "outputs": [],
            "source": [
                "ALTER TABLE Application.People ALTER COLUMN LogonName ADD MASKED WITH (FUNCTION = 'email()');"
            ]
        },
        {
            "attachments": {},
            "cell_type": "markdown",
            "metadata": {
                "azdata_cell_guid": "49aba569-33f6-4df0-8640-aa441b94a38c"
            },
            "source": [
                "Prüfe nun, ob die Daten mit dem User _ethan_ wirklich maskiert daherkommen."
            ]
        },
        {
            "cell_type": "code",
            "execution_count": null,
            "metadata": {
                "azdata_cell_guid": "e1e7f8ac-463a-41aa-a834-1f16565c6681",
                "tags": [],
                "vscode": {
                    "languageId": "sql"
                }
            },
            "outputs": [],
            "source": [
                "GRANT SELECT ON Application.People TO ethan;\n",
                "EXECUTE AS USER = 'ethan';\n",
                "SELECT LogonName FROM Application.People;\n",
                "REVERT;"
            ]
        },
        {
            "attachments": {},
            "cell_type": "markdown",
            "metadata": {
                "azdata_cell_guid": "445ed272-cdd6-4422-86c4-a2598d72e150"
            },
            "source": [
                "Verschlüssle die Werte in der Spalte _CustomerID_ der Tabelle _CustomerTransactions_ und speichere diese in einer separaten Spalte. Verwende dabei den bereits erstellten Database Master Key."
            ]
        },
        {
            "cell_type": "code",
            "execution_count": null,
            "metadata": {
                "azdata_cell_guid": "b86a1e67-d60a-499c-bb5a-27008c8c2b89",
                "vscode": {
                    "languageId": "sql"
                }
            },
            "outputs": [],
            "source": [
                "CREATE CERTIFICATE CustTrans_CustomerID WITH SUBJECT = 'Customer Transactions CustomerID ';  \n",
                "GO  \n",
                "\n",
                "CREATE SYMMETRIC KEY CTC_Key_01 WITH ALGORITHM = AES_256 ENCRYPTION BY CERTIFICATE CustTrans_CustomerID;  \n",
                "GO  \n",
                " \n",
                "OPEN SYMMETRIC KEY CTC_Key_01 DECRYPTION BY CERTIFICATE CustTrans_CustomerID; \n",
                "\n",
                "ALTER TABLE Sales.CustomerTransactions\n",
                "ADD EncryptedCustID VARBINARY(128);\n",
                "GO\n",
                "\n",
                "UPDATE Sales.CustomerTransactions  \n",
                "SET EncryptedCustID = EncryptByKey(Key_GUID('CTC_Key_01'), convert(varchar, CustomerID));  \n",
                "GO  \n",
                "\n",
                "CLOSE SYMMETRIC KEY SSN_Key_01;\n",
                "GO"
            ]
        },
        {
            "attachments": {},
            "cell_type": "markdown",
            "metadata": {
                "azdata_cell_guid": "dad7f864-cfb4-4b4a-aa06-ee86b138d3db"
            },
            "source": [
                "Prüfe anschliessend, ob die neue, verschlüsselte Spalte wieder korrekt entschlüsselt werden kann."
            ]
        },
        {
            "cell_type": "code",
            "execution_count": null,
            "metadata": {
                "azdata_cell_guid": "0c95b6b9-5227-434d-a64f-7c98d3d5c576",
                "vscode": {
                    "languageId": "sql"
                }
            },
            "outputs": [],
            "source": [
                "OPEN SYMMETRIC KEY CTC_Key_01 DECRYPTION BY CERTIFICATE CustTrans_CustomerID;\n",
                "GO\n",
                "\n",
                "SELECT CustomerID, EncryptedCustID AS 'Encrypted CustomerID',  \n",
                "CONVERT(varchar, DecryptByKey(EncryptedCustID)) AS 'Decrypted  CustomerID'  \n",
                "FROM Sales.CustomerTransactions;  \n",
                "GO\n",
                "\n",
                "CLOSE SYMMETRIC KEY SSN_Key_01;\n",
                "GO"
            ]
        }
    ],
    "metadata": {
        "extensions": {
            "azuredatastudio": {
                "version": 1,
                "views": []
            }
        },
        "kernelspec": {
            "display_name": "Python 3",
            "language": "python",
            "name": "python3"
        },
        "language_info": {
            "name": "python",
            "version": "3.9.6 (default, Aug  5 2022, 15:21:02) \n[Clang 14.0.0 (clang-1400.0.29.102)]"
        },
        "vscode": {
            "interpreter": {
                "hash": "31f2aee4e71d21fbe5cf8b01ff0e069b9275f58929596ceb00d14d90e3e16cd6"
            }
        }
    },
    "nbformat": 4,
    "nbformat_minor": 2
}
