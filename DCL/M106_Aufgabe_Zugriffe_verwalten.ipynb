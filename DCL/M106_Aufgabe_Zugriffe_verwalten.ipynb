{
    "cells": [
        {
            "attachments": {},
            "cell_type": "markdown",
            "metadata": {
                "azdata_cell_guid": "1f37b712-2f0a-41c2-813f-8053e328c3c6",
                "extensions": {
                    "azuredatastudio": {
                        "views": []
                    }
                }
            },
            "source": [
                "Erstelle ein neues Login für den Mitarbeiter _ethan_ mit dem Passwort: WWI4eth!"
            ]
        },
        {
            "cell_type": "code",
            "execution_count": null,
            "metadata": {
                "azdata_cell_guid": "0cff736d-ac76-43e8-982d-dfb02d96c728",
                "extensions": {
                    "azuredatastudio": {
                        "views": []
                    }
                },
                "tags": [],
                "vscode": {
                    "languageId": "sql"
                }
            },
            "outputs": [],
            "source": [
                "USE master;\n",
                "CREATE LOGIN ethan\n",
                "WITH PASSWORD = 'WWI4eth!', CHECK_POLICY = OFF;"
            ]
        },
        {
            "attachments": {},
            "cell_type": "markdown",
            "metadata": {
                "azdata_cell_guid": "81080d3e-cdf4-4a05-9aef-978c50eebfdc"
            },
            "source": [
                "Erstellen nun in der WWI-Datenbank für das soeben erstellte Login einen User und weise ihm die Rolle zu, die Lesezugriff auf alle Objekte ermöglicht."
            ]
        },
        {
            "cell_type": "code",
            "execution_count": null,
            "metadata": {
                "azdata_cell_guid": "3000adc6-19ce-4e67-97fb-eaaff6cd38d5",
                "vscode": {
                    "languageId": "sql"
                }
            },
            "outputs": [],
            "source": [
                "USE WideWorldImporters;\n",
                "CREATE USER ethan FOR LOGIN ethan;\n",
                "ALTER ROLE db_datareader ADD MEMBER ethan;"
            ]
        },
        {
            "attachments": {},
            "cell_type": "markdown",
            "metadata": {
                "azdata_cell_guid": "0d2b2779-b798-45bc-9a8a-70c82b09976c",
                "extensions": {
                    "azuredatastudio": {
                        "views": []
                    }
                }
            },
            "source": [
                "Erlaube dem Benutzer _ethan_ nur die existierenden Datensätze in den Tabellen _Orders_ und _OrderLines_ zu verändern."
            ]
        },
        {
            "cell_type": "code",
            "execution_count": null,
            "metadata": {
                "azdata_cell_guid": "e76522af-3721-47be-91d9-040871e05360",
                "extensions": {
                    "azuredatastudio": {
                        "views": []
                    }
                },
                "vscode": {
                    "languageId": "sql"
                }
            },
            "outputs": [],
            "source": [
                "GRANT UPDATE ON sales.Orders TO ethan;\n",
                "GRANT UPDATE ON sales.OrderLines TO ethan;"
            ]
        },
        {
            "attachments": {},
            "cell_type": "markdown",
            "metadata": {
                "azdata_cell_guid": "1a20ddc1-a51b-470f-803a-d678fabb4f07"
            },
            "source": [
                "Verweigere dem Benutzer _ethan_ Mutationen jeglicher Art in den Tabellen _Invoices_ und _InvoiceLines_ auszuführen."
            ]
        },
        {
            "cell_type": "code",
            "execution_count": null,
            "metadata": {
                "azdata_cell_guid": "20373693-79c2-4eaf-a143-be4c17c3e7e9",
                "vscode": {
                    "languageId": "sql"
                }
            },
            "outputs": [],
            "source": [
                "DENY INSERT, UPDATE, DELETE ON Sales.Invoices TO ethan;\n",
                "DENY INSERT, UPDATE, DELETE ON Sales.InvoiceLines TO ethan;\n"
            ]
        },
        {
            "attachments": {},
            "cell_type": "markdown",
            "metadata": {
                "azdata_cell_guid": "afb4f1f2-bbf0-4dc1-af9f-efe959b664ef",
                "extensions": {
                    "azuredatastudio": {
                        "views": []
                    }
                }
            },
            "source": [
                "Erstelle ein weiteres Login namens _stella_ mit dem Passwort _WWI4ste!_ mittels eines SQL-Scripts, in welchem:\n",
                "\n",
                "- das Login der Serverrolle _bulkadmin_ zugewiesen wird\n",
                "- für das Login ein gleichnamiger User in der Datenbank WideWorldImporters erstellt wird\n",
                "- dafür gesorgt wird, dass das Kennwort _nie_ abläuft und die Kennwort-Richtlinie zur Anwendung kommt\n",
                "- der User Daten im Schema _Warehouse_ erfassen kann"
            ]
        },
        {
            "cell_type": "code",
            "execution_count": null,
            "metadata": {
                "azdata_cell_guid": "415e7c0c-7842-4860-8fce-3898c3fa481b",
                "extensions": {
                    "azuredatastudio": {
                        "views": []
                    }
                },
                "vscode": {
                    "languageId": "sql"
                }
            },
            "outputs": [],
            "source": [
                "USE master;\n",
                "GO\n",
                "\n",
                "CREATE LOGIN stella\n",
                "WITH PASSWORD = 'WWI4ste!', CHECK_POLICY = ON, CHECK_EXPIRATION = OFF;\n",
                "GO\n",
                "\n",
                "ALTER ROLE bulkadmin ADD MEMBER stella;\n",
                "GO\n",
                "\n",
                "USE WideWorldImporters;\n",
                "GO\n",
                "\n",
                "CREATE USER stella FOR LOGIN stella\n",
                "GO\n",
                "\n",
                "GRANT INSERT ON SCHEMA:: Warehouse TO stella;\n",
                "GO"
            ]
        },
        {
            "attachments": {},
            "cell_type": "markdown",
            "metadata": {
                "azdata_cell_guid": "23acf8f2-b953-4416-83e1-2d5f5f6981f7"
            },
            "source": [
                "Der neuen Userin _stella_ muss noch die Berechtigung erteilt werden, Tabellen im Schema _WareHouse_ erstellen zu können."
            ]
        },
        {
            "cell_type": "code",
            "execution_count": null,
            "metadata": {
                "azdata_cell_guid": "155e01d8-4551-4857-bdc9-b850cae58201",
                "vscode": {
                    "languageId": "sql"
                }
            },
            "outputs": [],
            "source": [
                "GRANT ALTER ON SCHEMA::Warehouse TO stella;\n",
                "GRANT CREATE TABLE TO stella;"
            ]
        }
    ],
    "metadata": {
        "extensions": {
            "azuredatastudio": {
                "version": 1,
                "views": []
            }
        },
        "kernelspec": {
            "display_name": "Python 3",
            "language": "python",
            "name": "python3"
        },
        "language_info": {
            "name": "python",
            "version": "3.9.6 (default, Aug  5 2022, 15:21:02) \n[Clang 14.0.0 (clang-1400.0.29.102)]"
        },
        "vscode": {
            "interpreter": {
                "hash": "31f2aee4e71d21fbe5cf8b01ff0e069b9275f58929596ceb00d14d90e3e16cd6"
            }
        }
    },
    "nbformat": 4,
    "nbformat_minor": 2
}
